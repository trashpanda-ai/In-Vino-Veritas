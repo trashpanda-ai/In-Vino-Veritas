{
 "cells": [
  {
   "cell_type": "code",
   "execution_count": 1,
   "id": "c7a87c54",
   "metadata": {
    "execution": {
     "iopub.execute_input": "2023-11-27T02:24:40.840444Z",
     "iopub.status.busy": "2023-11-27T02:24:40.840155Z",
     "iopub.status.idle": "2023-11-27T02:24:40.850130Z",
     "shell.execute_reply": "2023-11-27T02:24:40.849118Z"
    },
    "jupyter": {
     "source_hidden": true
    },
    "papermill": {
     "duration": 0.018645,
     "end_time": "2023-11-27T02:24:40.852157",
     "exception": false,
     "start_time": "2023-11-27T02:24:40.833512",
     "status": "completed"
    },
    "tags": [
     "parameters"
    ]
   },
   "outputs": [],
   "source": [
    "param1='asd'\n",
    "param2='asd'\n",
    "param3='asd'"
   ]
  },
  {
   "cell_type": "code",
   "execution_count": 2,
   "id": "365eb148",
   "metadata": {
    "execution": {
     "iopub.execute_input": "2023-11-27T02:24:40.859755Z",
     "iopub.status.busy": "2023-11-27T02:24:40.859466Z",
     "iopub.status.idle": "2023-11-27T02:24:40.863745Z",
     "shell.execute_reply": "2023-11-27T02:24:40.862791Z"
    },
    "jupyter": {
     "source_hidden": true
    },
    "papermill": {
     "duration": 0.010096,
     "end_time": "2023-11-27T02:24:40.865453",
     "exception": false,
     "start_time": "2023-11-27T02:24:40.855357",
     "status": "completed"
    },
    "tags": [
     "injected-parameters"
    ]
   },
   "outputs": [],
   "source": [
    "# Parameters\n",
    "param1 = \"test1\"\n",
    "param2 = \"test2\"\n"
   ]
  },
  {
   "cell_type": "code",
   "execution_count": null,
   "id": "9e1cffa1",
   "metadata": {
    "jupyter": {
     "source_hidden": true
    },
    "papermill": {
     "duration": null,
     "end_time": null,
     "exception": false,
     "start_time": "2023-11-27T02:24:40.868388",
     "status": "running"
    },
    "tags": []
   },
   "outputs": [],
   "source": [
    "import requests\n",
    "import pandas as pd\n",
    "import numpy as np\n",
    "import random\n",
    "import pyarrow as pa\n",
    "import pyarrow.parquet as pq\n",
    "\n",
    "wine_cols = [\"ID\", \"Winery\",\"Name\", \"Vintage\",\"Country\", \"Region\", \"Wine_Style\", \"Wine_Type\", \"Wine_Category\", \"Grape_Type\",\n",
    "            \"Grape_ID\", 'Rating', 'Review_Count','Price', 'Acidity', \"Fizziness\", \"Intensity\", \"Sweetness\", \"Tannin\", \"Scrape_Date\"]\n",
    "\n",
    "#  This way we can run the pipeline daily and grow naturally and randomly\n",
    "# But lower numbers are more common than higher numbers\n",
    "# thus we need a higher density among the lower numbers\n",
    "def generate_numbers(n, max_val):\n",
    "    min = np.floor(max_val*0.1).astype(int)\n",
    "    small_numbers = np.random.exponential(scale=1.0, size=np.floor(n*0.5).astype(int))\n",
    "    small_numbers = np.floor(small_numbers * 0.5*min).astype(int)\n",
    "    large_numbers = np.random.exponential(scale=1.0, size=np.floor(n*0.5).astype(int))\n",
    "    large_numbers = np.floor(large_numbers * 0.5*max_val).astype(int)\n",
    "    numbers = np.concatenate((small_numbers, large_numbers))\n",
    "    return list(numbers)\n",
    "\n",
    "random_grapes = generate_numbers(20, 100)\n",
    "\n",
    "temp_df = []\n",
    "\n",
    "number_of_pages = 10\n",
    "\n",
    "for y in random_grapes: #y range is the number of grape types (up to 200)  \n",
    "    for z in [1,2,3,4,7,24]: # z is the wine type (1: red, 2: white, 3: sparkling, 4: rosé 7: dessert wine 24: fortified wine) \n",
    "        for x in range(1, number_of_pages): # x range is the number of pages (up to ?? - depends on grape)  \n",
    "            # instead of parsing we found a somewhat unofficial API that we can use to get the data\n",
    "            # But normally one would only get 2000 results (https://stackoverflow.com/questions/71264253/web-scraping-vivino-using-python)\n",
    "            # thats why we analyzed all the data one can use as payload to design restarts for the random walk of API scraping\n",
    "            \n",
    "            r = requests.get(\n",
    "            \"https://www.vivino.com/api/explore/explore\",\n",
    "            params = {\n",
    "                #\"country_code\": \"en\",\n",
    "                'grape_ids[]':y,\n",
    "                #\"country_codes[]\":[\"pt\", \"es\", \"fr\", \"de\"],\n",
    "                \"currency_code\":\"EUR\",\n",
    "                #\"grape_filter\":\"varietal\",\n",
    "                \"min_rating\":\"1\",\n",
    "                #\"order_by\":\"price\", #  \"ratings_average\"\n",
    "                #\"order\":\"asc\",\n",
    "                \"page\": x,\n",
    "                \"price_range_max\":\"1500\",\n",
    "                \"price_range_min\":\"0\",\n",
    "                \"wine_type_ids[]\":z,\n",
    "                \"language\":\"en\",\n",
    "                \"per_page\":50\n",
    "            },\n",
    "                headers= {\n",
    "                \"User-Agent\": \"Mozilla/5.0 (Windows NT 10.0; Win64; x64; rv:66.0) Gecko/20100101 Firefox/66.0\",  \n",
    "                'Accept': 'application/json',\n",
    "                'Accept-Language': 'en-US,en;q=0.5',\n",
    "            }\n",
    "\n",
    "            )\n",
    "            try:\n",
    "                    \n",
    "                results = [\n",
    "                    (\n",
    "                    f'{t[\"vintage\"][\"wine\"][\"name\"]} {t[\"vintage\"][\"year\"]}',#ID\n",
    "                    t[\"vintage\"][\"wine\"][\"winery\"][\"name\"], #winery\n",
    "                    t[\"vintage\"][\"wine\"][\"name\"], #Name\n",
    "                    t[\"vintage\"][\"year\"], #Vintage\n",
    "                    t[\"vintage\"][\"wine\"][\"region\"][\"country\"][\"name\"], #Country\n",
    "                    t[\"vintage\"][\"wine\"][\"region\"][\"name\"], #region\n",
    "                    t[\"vintage\"][\"wine\"][\"style\"][\"seo_name\"], # wine style\n",
    "                    t[\"vintage\"][\"wine\"][\"style\"][\"varietal_name\"], # wine type\n",
    "                    t[\"vintage\"][\"wine\"][\"type_id\"], #wine type by id\n",
    "                    r.json()[\"selected_filters\"][0][\"items\"][0][\"name\"], # grape type\n",
    "                    r.json()[\"selected_filters\"][0][\"items\"][0][\"id\"], # grape id\n",
    "                    t[\"vintage\"][\"statistics\"][\"ratings_average\"], #rating\n",
    "                    t[\"vintage\"][\"statistics\"][\"ratings_count\"],# number of ratings\n",
    "                    t[\"price\"][\"amount\"],#price\n",
    "                    t[\"vintage\"][\"wine\"][\"taste\"][\"structure\"][\"acidity\"], # wine dimensions 1\n",
    "                    t[\"vintage\"][\"wine\"][\"taste\"][\"structure\"][\"fizziness\"],# wine dimensions 2\n",
    "                    t[\"vintage\"][\"wine\"][\"taste\"][\"structure\"][\"intensity\"], # wine dimensions 3\n",
    "                    t[\"vintage\"][\"wine\"][\"taste\"][\"structure\"][\"sweetness\"],# wine dimensions 4\n",
    "                    t[\"vintage\"][\"wine\"][\"taste\"][\"structure\"][\"tannin\"],    # wine dimensions 5\n",
    "                    # add scrape date as date\n",
    "                    pd.to_datetime('today').strftime(\"%d-%m-%Y\")\n",
    "                    )\n",
    "                    for t in r.json()[\"explore_vintage\"][\"matches\"]\n",
    "                    ]\n",
    "                temp_df.append(results)\n",
    "            except:\n",
    "                    pass\n",
    "\n",
    "if all(isinstance(i, list) for i in temp_df):\n",
    "    temp_df = [item for sublist in temp_df for item in sublist]  # Flatten the list of lists\n",
    "    wine_df = pd.DataFrame(temp_df, columns=wine_cols)\n"
   ]
  },
  {
   "cell_type": "code",
   "execution_count": null,
   "id": "7ea5b9b2",
   "metadata": {
    "jupyter": {
     "source_hidden": true
    },
    "papermill": {
     "duration": null,
     "end_time": null,
     "exception": null,
     "start_time": null,
     "status": "pending"
    },
    "tags": []
   },
   "outputs": [],
   "source": [
    "wine_df"
   ]
  },
  {
   "cell_type": "code",
   "execution_count": null,
   "id": "038b9724",
   "metadata": {
    "jupyter": {
     "source_hidden": true
    },
    "papermill": {
     "duration": null,
     "end_time": null,
     "exception": null,
     "start_time": null,
     "status": "pending"
    },
    "tags": []
   },
   "outputs": [],
   "source": [
    "# map wine type id to wine type\n",
    "wine_df[\"Wine_Category\"] = wine_df[\"Wine_Category\"].replace({1: \"Red\", 2: \"White\", 3: \"Sparkling\", 4: \"Rosé\", 7: \"Dessert Wine\", 24: \"Fortified Wine\"})\n",
    "\n",
    "# Remove duplicates\n",
    "wine_df = wine_df.drop_duplicates(subset=['ID'])"
   ]
  },
  {
   "cell_type": "code",
   "execution_count": null,
   "id": "1a92a18d",
   "metadata": {
    "jupyter": {
     "source_hidden": true
    },
    "papermill": {
     "duration": null,
     "end_time": null,
     "exception": null,
     "start_time": null,
     "status": "pending"
    },
    "tags": []
   },
   "outputs": [],
   "source": [
    "#cleaning region data\n",
    "wine_df['Region'] = wine_df['Region'].str.replace('Grand Cru', '')"
   ]
  },
  {
   "cell_type": "code",
   "execution_count": null,
   "id": "62f009c7",
   "metadata": {
    "jupyter": {
     "source_hidden": true
    },
    "papermill": {
     "duration": null,
     "end_time": null,
     "exception": null,
     "start_time": null,
     "status": "pending"
    },
    "tags": []
   },
   "outputs": [],
   "source": [
    "#clean NaN values\n",
    "wine_df['Rating'] = wine_df['Rating'].replace(0, np.nan)\n",
    "wine_df['Vintage'] = wine_df['Vintage'].replace(\"N.V.\", np.nan)"
   ]
  },
  {
   "cell_type": "code",
   "execution_count": null,
   "id": "97f149b9",
   "metadata": {
    "jupyter": {
     "source_hidden": true
    },
    "papermill": {
     "duration": null,
     "end_time": null,
     "exception": null,
     "start_time": null,
     "status": "pending"
    },
    "tags": []
   },
   "outputs": [],
   "source": [
    "# drop rows of wine_df['Vintage'] with value '' (empty string)\n",
    "wine_df = wine_df[wine_df['Vintage'] != '']\n",
    "wine_df['Vintage'] = wine_df['Vintage'].fillna(0)\n",
    "wine_df['Vintage'].unique()"
   ]
  },
  {
   "cell_type": "code",
   "execution_count": null,
   "id": "ecb68e8f",
   "metadata": {
    "jupyter": {
     "source_hidden": true
    },
    "papermill": {
     "duration": null,
     "end_time": null,
     "exception": null,
     "start_time": null,
     "status": "pending"
    },
    "tags": []
   },
   "outputs": [],
   "source": [
    "\n",
    "\n",
    "# redefine column types for parquet (otherwise it will be object)\n",
    "wine_df['Vintage'] = wine_df['Vintage'].astype(int)\n",
    "wine_df['Grape_ID'] = wine_df['Grape_ID'].astype(int)\n",
    "wine_df['Rating'] = wine_df['Rating'].astype(float)\n",
    "wine_df['Review_Count'] = wine_df['Review_Count'].astype(int)\n",
    "wine_df['Price'] = wine_df['Price'].astype(float)\n",
    "wine_df['Acidity'] = wine_df['Acidity'].astype(float)\n",
    "wine_df['Fizziness'] = wine_df['Fizziness'].astype(float)\n",
    "wine_df['Intensity'] = wine_df['Intensity'].astype(float)\n",
    "wine_df['Sweetness'] = wine_df['Sweetness'].astype(float)\n",
    "wine_df['Tannin'] = wine_df['Tannin'].astype(float)\n",
    "\n",
    "wine_df.dtypes\n"
   ]
  },
  {
   "cell_type": "code",
   "execution_count": null,
   "id": "051bb593",
   "metadata": {
    "jupyter": {
     "source_hidden": true
    },
    "papermill": {
     "duration": null,
     "end_time": null,
     "exception": null,
     "start_time": null,
     "status": "pending"
    },
    "tags": []
   },
   "outputs": [],
   "source": [
    "wine_df.to_parquet('data___1.parquet', engine='fastparquet')"
   ]
  }
 ],
 "metadata": {
  "kernelspec": {
   "display_name": "Python 3",
   "language": "python",
   "name": "python3"
  },
  "language_info": {
   "codemirror_mode": {
    "name": "ipython",
    "version": 3
   },
   "file_extension": ".py",
   "mimetype": "text/x-python",
   "name": "python",
   "nbconvert_exporter": "python",
   "pygments_lexer": "ipython3",
   "version": "3.10.12"
  },
  "papermill": {
   "default_parameters": {},
   "duration": null,
   "end_time": null,
   "environment_variables": {},
   "exception": null,
   "input_path": "/opt/airflow/dags/scraping.ipynb",
   "output_path": "/opt/airflow/dags/output.ipynb",
   "parameters": {
    "param1": "test1",
    "param2": "test2"
   },
   "start_time": "2023-11-27T02:24:39.213394",
   "version": "2.5.0"
  }
 },
 "nbformat": 4,
 "nbformat_minor": 5
}