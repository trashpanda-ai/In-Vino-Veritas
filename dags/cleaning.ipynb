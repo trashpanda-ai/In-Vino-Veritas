{
 "cells": [
  {
   "cell_type": "code",
   "execution_count": null,
   "metadata": {
    "tags": [
     "parameters"
    ]
   },
   "outputs": [],
   "source": [
    "offline_mode=\"False\""
   ]
  },
  {
   "cell_type": "code",
   "execution_count": null,
   "metadata": {},
   "outputs": [],
   "source": [
    "import logging\n",
    "import requests\n",
    "import pandas as pd\n",
    "import numpy as np\n",
    "import random\n",
    "import pyarrow as pa\n",
    "import pyarrow.parquet as pq"
   ]
  },
  {
   "cell_type": "code",
   "execution_count": null,
   "metadata": {},
   "outputs": [],
   "source": [
    "wine_df=pd.read_parquet('/opt/airflow/resources/wine_data_raw.parquet')\n"
   ]
  },
  {
   "cell_type": "code",
   "execution_count": 3,
   "metadata": {},
   "outputs": [],
   "source": [
    "if offline_mode == \"False\":\n",
    "    # map wine type id to wine type\n",
    "    wine_df[\"Wine_Category\"] = wine_df[\"Wine_Category\"].replace({1: \"Red\", 2: \"White\", 3: \"Sparkling\", 4: \"Rosé\", 7: \"Dessert Wine\", 24: \"Fortified Wine\"})\n",
    "else:\n",
    "    wine_df[\"Wine_Type_ID\"]=wine_df[\"Wine_Type_ID\"].replace({1: \"Red\", 2: \"White\", 3: \"Sparkling\", 4: \"Rosé\", 7: \"Dessert Wine\", 24: \"Fortified Wine\"})\n",
    "    #rename \"Wine_type_ID\" to \"Wine_Category\n",
    "    wine_df.rename(columns={\"Wine_Type_ID\":\"Wine_Category\"}, inplace=True)\n",
    "    #add a scrape_date column and fill it with 1970-01-01 for each entry\n",
    "    wine_df[\"Scrape_Date\"]=\"1970-01-01\"\n",
    "    \n",
    "\n",
    "# Remove duplicates\n",
    "wine_df = wine_df.drop_duplicates(subset=['ID'])"
   ]
  },
  {
   "cell_type": "code",
   "execution_count": 4,
   "metadata": {},
   "outputs": [
    {
     "name": "stderr",
     "output_type": "stream",
     "text": [
      "/tmp/ipykernel_994/1589448178.py:2: SettingWithCopyWarning: \n",
      "A value is trying to be set on a copy of a slice from a DataFrame.\n",
      "Try using .loc[row_indexer,col_indexer] = value instead\n",
      "\n",
      "See the caveats in the documentation: https://pandas.pydata.org/pandas-docs/stable/user_guide/indexing.html#returning-a-view-versus-a-copy\n",
      "  wine_df['Region'] = wine_df['Region'].str.replace('Grand Cru', '')\n"
     ]
    }
   ],
   "source": [
    "problematic_regions_df = pd.DataFrame(columns=['region'])\n",
    "whitelist_regions_df = pd.DataFrame(columns=['region'])\n",
    "\n",
    "try:\n",
    "    # Read the parquet file into a DataFrame\n",
    "    problematic_regions_df = pd.read_parquet('/opt/airflow/problematic_regions.parquet')\n",
    "\n",
    "    # Read the whitelist parquet file into a DataFrame\n",
    "    whitelist_regions_df = pd.read_parquet('/opt/airflow/whitelist_regions.parquet')\n",
    "except Exception as e:\n",
    "    print(f\"Error occurred while reading the parquet files: {e}\")\n",
    "\n",
    "# Drop rows with regions from the whitelist\n",
    "if len(whitelist_regions_df) > 0:\n",
    "    problematic_regions_df = problematic_regions_df[~problematic_regions_df['region'].isin(whitelist_regions_df['region'])]\n",
    "original_num_rows = len(wine_df)\n",
    "#print wine_df columns\n",
    "print(wine_df.columns)\n",
    "# Drop rows with problematic region names\n",
    "wine_df = wine_df[~wine_df['Region'].isin(problematic_regions_df['region'])]\n",
    "\n",
    "# Count the number of final rows dropped\n",
    "num_rows_dropped = original_num_rows - len(wine_df)\n",
    "\n",
    "# Print the number of final rows dropped\n",
    "print(f\"Number of final rows dropped: {num_rows_dropped}\")\n"
   ]
  },
  {
   "cell_type": "code",
   "execution_count": 5,
   "metadata": {},
   "outputs": [
    {
     "name": "stderr",
     "output_type": "stream",
     "text": [
      "/tmp/ipykernel_994/793606011.py:2: SettingWithCopyWarning: \n",
      "A value is trying to be set on a copy of a slice from a DataFrame.\n",
      "Try using .loc[row_indexer,col_indexer] = value instead\n",
      "\n",
      "See the caveats in the documentation: https://pandas.pydata.org/pandas-docs/stable/user_guide/indexing.html#returning-a-view-versus-a-copy\n",
      "  wine_df['Rating'] = wine_df['Rating'].replace(0, np.nan)\n",
      "/tmp/ipykernel_994/793606011.py:3: SettingWithCopyWarning: \n",
      "A value is trying to be set on a copy of a slice from a DataFrame.\n",
      "Try using .loc[row_indexer,col_indexer] = value instead\n",
      "\n",
      "See the caveats in the documentation: https://pandas.pydata.org/pandas-docs/stable/user_guide/indexing.html#returning-a-view-versus-a-copy\n",
      "  wine_df['Vintage'] = wine_df['Vintage'].replace(\"N.V.\", np.nan)\n"
     ]
    }
   ],
   "source": [
    "#clean NaN values\n",
    "wine_df['Rating'] = wine_df['Rating'].replace(0, np.nan)\n",
    "wine_df['Vintage'] = wine_df['Vintage'].replace(\"N.V.\", np.nan)\n"
   ]
  },
  {
   "cell_type": "code",
   "execution_count": 6,
   "metadata": {},
   "outputs": [
    {
     "data": {
      "text/plain": [
       "array([2016, 2020, 2018, 2014, 2015, 2005, 2009, 2019, 2017, 2004, 1998,\n",
       "       2011, 1990, 2010, 2012, 2013, 2000, 1989, 1999, 2003, 2006, 2007,\n",
       "       2008, 2021, 2022, 2001, 1987, 1884, 1982, 1995, 1996, 1986, 1997,\n",
       "       1985, 2002, 1944, 1924, 1919, 1928, 1893, 1994, 1988, 1993, 1983,\n",
       "       1970,    0, 1948, 1981, 1984, 1991, 1967, 2023, 1954, 1974, 1959,\n",
       "       1934, 1980, 1964, 1977, 1961, 1966, 1969, 1992, 1953, 1975, 1976,\n",
       "       1971, 1979, 1978, 1956, 1936, 1965, 1874, 1951, 1968, 1945, 1960,\n",
       "       1949, 1962, 1955, 1952, 1950, 1947, 1972, 1973, 1946, 1958, 1963])"
      ]
     },
     "execution_count": 6,
     "metadata": {},
     "output_type": "execute_result"
    }
   ],
   "source": [
    "# drop rows of wine_df['Vintage'] with value '' (empty string)\n",
    "wine_df = wine_df[wine_df['Vintage'] != '']\n",
    "#wine_df['Vintage'] = wine_df['Vintage'].fillna(0)\n",
    "wine_df.dropna(subset=['Vintage'], inplace=True)\n",
    "wine_df['Vintage'].unique()\n"
   ]
  },
  {
   "cell_type": "code",
   "execution_count": 7,
   "metadata": {},
   "outputs": [
    {
     "data": {
      "text/plain": [
       "ID                object\n",
       "Winery            object\n",
       "Name              object\n",
       "Vintage            int64\n",
       "Country           object\n",
       "Region            object\n",
       "Wine_Style        object\n",
       "Wine_Type         object\n",
       "Wine_Category     object\n",
       "Grape_Type        object\n",
       "Grape_ID           int64\n",
       "Rating           float64\n",
       "Review_Count       int64\n",
       "Price            float64\n",
       "Acidity          float64\n",
       "Fizziness        float64\n",
       "Intensity        float64\n",
       "Sweetness        float64\n",
       "Tannin           float64\n",
       "Scrape_Date       object\n",
       "dtype: object"
      ]
     },
     "execution_count": 7,
     "metadata": {},
     "output_type": "execute_result"
    }
   ],
   "source": [
    "\n",
    "\n",
    "# redefine column types for parquet (otherwise it will be object)\n",
    "wine_df['Vintage'] = wine_df['Vintage'].astype(int)\n",
    "wine_df['Grape_ID'] = wine_df['Grape_ID'].astype(int)\n",
    "wine_df['Rating'] = wine_df['Rating'].astype(float)\n",
    "wine_df['Review_Count'] = wine_df['Review_Count'].astype(int)\n",
    "wine_df['Price'] = wine_df['Price'].astype(float)\n",
    "wine_df['Acidity'] = wine_df['Acidity'].astype(float)\n",
    "wine_df['Fizziness'] = wine_df['Fizziness'].astype(float)\n",
    "wine_df['Intensity'] = wine_df['Intensity'].astype(float)\n",
    "wine_df['Sweetness'] = wine_df['Sweetness'].astype(float)\n",
    "wine_df['Tannin'] = wine_df['Tannin'].astype(float)\n",
    "\n",
    "wine_df.dtypes\n",
    "logging.info(\"Transformation done\")\n"
   ]
  },
  {
   "cell_type": "code",
   "execution_count": 8,
   "metadata": {},
   "outputs": [
    {
     "ename": "ImportError",
     "evalue": "Missing optional dependency 'fastparquet'. fastparquet is required for parquet support. Use pip or conda to install fastparquet.",
     "output_type": "error",
     "traceback": [
      "\u001b[0;31m---------------------------------------------------------------------------\u001b[0m",
      "\u001b[0;31mModuleNotFoundError\u001b[0m                       Traceback (most recent call last)",
      "File \u001b[0;32m~/.local/lib/python3.10/site-packages/pandas/compat/_optional.py:132\u001b[0m, in \u001b[0;36mimport_optional_dependency\u001b[0;34m(name, extra, errors, min_version)\u001b[0m\n\u001b[1;32m    131\u001b[0m \u001b[39mtry\u001b[39;00m:\n\u001b[0;32m--> 132\u001b[0m     module \u001b[39m=\u001b[39m importlib\u001b[39m.\u001b[39;49mimport_module(name)\n\u001b[1;32m    133\u001b[0m \u001b[39mexcept\u001b[39;00m \u001b[39mImportError\u001b[39;00m:\n",
      "File \u001b[0;32m/usr/lib/python3.10/importlib/__init__.py:126\u001b[0m, in \u001b[0;36mimport_module\u001b[0;34m(name, package)\u001b[0m\n\u001b[1;32m    125\u001b[0m         level \u001b[39m+\u001b[39m\u001b[39m=\u001b[39m \u001b[39m1\u001b[39m\n\u001b[0;32m--> 126\u001b[0m \u001b[39mreturn\u001b[39;00m _bootstrap\u001b[39m.\u001b[39;49m_gcd_import(name[level:], package, level)\n",
      "File \u001b[0;32m<frozen importlib._bootstrap>:1050\u001b[0m, in \u001b[0;36m_gcd_import\u001b[0;34m(name, package, level)\u001b[0m\n",
      "File \u001b[0;32m<frozen importlib._bootstrap>:1027\u001b[0m, in \u001b[0;36m_find_and_load\u001b[0;34m(name, import_)\u001b[0m\n",
      "File \u001b[0;32m<frozen importlib._bootstrap>:1004\u001b[0m, in \u001b[0;36m_find_and_load_unlocked\u001b[0;34m(name, import_)\u001b[0m\n",
      "\u001b[0;31mModuleNotFoundError\u001b[0m: No module named 'fastparquet'",
      "\nDuring handling of the above exception, another exception occurred:\n",
      "\u001b[0;31mImportError\u001b[0m                               Traceback (most recent call last)",
      "\u001b[1;32m/home/marci/data_engineering/wine_project/In_vino_veritas/drafts/scraping.ipynb Cell 9\u001b[0m line \u001b[0;36m1\n\u001b[0;32m----> <a href='vscode-notebook-cell://wsl%2Bubuntu-22.04/home/marci/data_engineering/wine_project/In_vino_veritas/drafts/scraping.ipynb#X11sdnNjb2RlLXJlbW90ZQ%3D%3D?line=0'>1</a>\u001b[0m wine_df\u001b[39m.\u001b[39;49mto_parquet(\u001b[39m'\u001b[39;49m\u001b[39mdata___1.parquet\u001b[39;49m\u001b[39m'\u001b[39;49m, engine\u001b[39m=\u001b[39;49m\u001b[39m'\u001b[39;49m\u001b[39mfastparquet\u001b[39;49m\u001b[39m'\u001b[39;49m)\n",
      "File \u001b[0;32m~/.local/lib/python3.10/site-packages/pandas/core/frame.py:2973\u001b[0m, in \u001b[0;36mDataFrame.to_parquet\u001b[0;34m(self, path, engine, compression, index, partition_cols, storage_options, **kwargs)\u001b[0m\n\u001b[1;32m   2885\u001b[0m \u001b[39m\u001b[39m\u001b[39m\"\"\"\u001b[39;00m\n\u001b[1;32m   2886\u001b[0m \u001b[39mWrite a DataFrame to the binary parquet format.\u001b[39;00m\n\u001b[1;32m   2887\u001b[0m \n\u001b[0;32m   (...)\u001b[0m\n\u001b[1;32m   2969\u001b[0m \u001b[39m>>> content = f.read()\u001b[39;00m\n\u001b[1;32m   2970\u001b[0m \u001b[39m\"\"\"\u001b[39;00m\n\u001b[1;32m   2971\u001b[0m \u001b[39mfrom\u001b[39;00m \u001b[39mpandas\u001b[39;00m\u001b[39m.\u001b[39;00m\u001b[39mio\u001b[39;00m\u001b[39m.\u001b[39;00m\u001b[39mparquet\u001b[39;00m \u001b[39mimport\u001b[39;00m to_parquet\n\u001b[0;32m-> 2973\u001b[0m \u001b[39mreturn\u001b[39;00m to_parquet(\n\u001b[1;32m   2974\u001b[0m     \u001b[39mself\u001b[39;49m,\n\u001b[1;32m   2975\u001b[0m     path,\n\u001b[1;32m   2976\u001b[0m     engine,\n\u001b[1;32m   2977\u001b[0m     compression\u001b[39m=\u001b[39;49mcompression,\n\u001b[1;32m   2978\u001b[0m     index\u001b[39m=\u001b[39;49mindex,\n\u001b[1;32m   2979\u001b[0m     partition_cols\u001b[39m=\u001b[39;49mpartition_cols,\n\u001b[1;32m   2980\u001b[0m     storage_options\u001b[39m=\u001b[39;49mstorage_options,\n\u001b[1;32m   2981\u001b[0m     \u001b[39m*\u001b[39;49m\u001b[39m*\u001b[39;49mkwargs,\n\u001b[1;32m   2982\u001b[0m )\n",
      "File \u001b[0;32m~/.local/lib/python3.10/site-packages/pandas/io/parquet.py:479\u001b[0m, in \u001b[0;36mto_parquet\u001b[0;34m(df, path, engine, compression, index, storage_options, partition_cols, filesystem, **kwargs)\u001b[0m\n\u001b[1;32m    477\u001b[0m \u001b[39mif\u001b[39;00m \u001b[39misinstance\u001b[39m(partition_cols, \u001b[39mstr\u001b[39m):\n\u001b[1;32m    478\u001b[0m     partition_cols \u001b[39m=\u001b[39m [partition_cols]\n\u001b[0;32m--> 479\u001b[0m impl \u001b[39m=\u001b[39m get_engine(engine)\n\u001b[1;32m    481\u001b[0m path_or_buf: FilePath \u001b[39m|\u001b[39m WriteBuffer[\u001b[39mbytes\u001b[39m] \u001b[39m=\u001b[39m io\u001b[39m.\u001b[39mBytesIO() \u001b[39mif\u001b[39;00m path \u001b[39mis\u001b[39;00m \u001b[39mNone\u001b[39;00m \u001b[39melse\u001b[39;00m path\n\u001b[1;32m    483\u001b[0m impl\u001b[39m.\u001b[39mwrite(\n\u001b[1;32m    484\u001b[0m     df,\n\u001b[1;32m    485\u001b[0m     path_or_buf,\n\u001b[0;32m   (...)\u001b[0m\n\u001b[1;32m    491\u001b[0m     \u001b[39m*\u001b[39m\u001b[39m*\u001b[39mkwargs,\n\u001b[1;32m    492\u001b[0m )\n",
      "File \u001b[0;32m~/.local/lib/python3.10/site-packages/pandas/io/parquet.py:79\u001b[0m, in \u001b[0;36mget_engine\u001b[0;34m(engine)\u001b[0m\n\u001b[1;32m     77\u001b[0m     \u001b[39mreturn\u001b[39;00m PyArrowImpl()\n\u001b[1;32m     78\u001b[0m \u001b[39melif\u001b[39;00m engine \u001b[39m==\u001b[39m \u001b[39m\"\u001b[39m\u001b[39mfastparquet\u001b[39m\u001b[39m\"\u001b[39m:\n\u001b[0;32m---> 79\u001b[0m     \u001b[39mreturn\u001b[39;00m FastParquetImpl()\n\u001b[1;32m     81\u001b[0m \u001b[39mraise\u001b[39;00m \u001b[39mValueError\u001b[39;00m(\u001b[39m\"\u001b[39m\u001b[39mengine must be one of \u001b[39m\u001b[39m'\u001b[39m\u001b[39mpyarrow\u001b[39m\u001b[39m'\u001b[39m\u001b[39m, \u001b[39m\u001b[39m'\u001b[39m\u001b[39mfastparquet\u001b[39m\u001b[39m'\u001b[39m\u001b[39m\"\u001b[39m)\n",
      "File \u001b[0;32m~/.local/lib/python3.10/site-packages/pandas/io/parquet.py:298\u001b[0m, in \u001b[0;36mFastParquetImpl.__init__\u001b[0;34m(self)\u001b[0m\n\u001b[1;32m    295\u001b[0m \u001b[39mdef\u001b[39;00m \u001b[39m__init__\u001b[39m(\u001b[39mself\u001b[39m) \u001b[39m-\u001b[39m\u001b[39m>\u001b[39m \u001b[39mNone\u001b[39;00m:\n\u001b[1;32m    296\u001b[0m     \u001b[39m# since pandas is a dependency of fastparquet\u001b[39;00m\n\u001b[1;32m    297\u001b[0m     \u001b[39m# we need to import on first use\u001b[39;00m\n\u001b[0;32m--> 298\u001b[0m     fastparquet \u001b[39m=\u001b[39m import_optional_dependency(\n\u001b[1;32m    299\u001b[0m         \u001b[39m\"\u001b[39;49m\u001b[39mfastparquet\u001b[39;49m\u001b[39m\"\u001b[39;49m, extra\u001b[39m=\u001b[39;49m\u001b[39m\"\u001b[39;49m\u001b[39mfastparquet is required for parquet support.\u001b[39;49m\u001b[39m\"\u001b[39;49m\n\u001b[1;32m    300\u001b[0m     )\n\u001b[1;32m    301\u001b[0m     \u001b[39mself\u001b[39m\u001b[39m.\u001b[39mapi \u001b[39m=\u001b[39m fastparquet\n",
      "File \u001b[0;32m~/.local/lib/python3.10/site-packages/pandas/compat/_optional.py:135\u001b[0m, in \u001b[0;36mimport_optional_dependency\u001b[0;34m(name, extra, errors, min_version)\u001b[0m\n\u001b[1;32m    133\u001b[0m \u001b[39mexcept\u001b[39;00m \u001b[39mImportError\u001b[39;00m:\n\u001b[1;32m    134\u001b[0m     \u001b[39mif\u001b[39;00m errors \u001b[39m==\u001b[39m \u001b[39m\"\u001b[39m\u001b[39mraise\u001b[39m\u001b[39m\"\u001b[39m:\n\u001b[0;32m--> 135\u001b[0m         \u001b[39mraise\u001b[39;00m \u001b[39mImportError\u001b[39;00m(msg)\n\u001b[1;32m    136\u001b[0m     \u001b[39mreturn\u001b[39;00m \u001b[39mNone\u001b[39;00m\n\u001b[1;32m    138\u001b[0m \u001b[39m# Handle submodules: if we have submodule, grab parent module from sys.modules\u001b[39;00m\n",
      "\u001b[0;31mImportError\u001b[0m: Missing optional dependency 'fastparquet'. fastparquet is required for parquet support. Use pip or conda to install fastparquet."
     ]
    }
   ],
   "source": [
    "wine_df.to_parquet('/opt/airflow/resources/wine_data.parquet', engine='fastparquet')"
   ]
  }
 ],
 "metadata": {
  "kernelspec": {
   "display_name": "Python 3",
   "language": "python",
   "name": "python3"
  },
  "language_info": {
   "codemirror_mode": {
    "name": "ipython",
    "version": 3
   },
   "file_extension": ".py",
   "mimetype": "text/x-python",
   "name": "python",
   "nbconvert_exporter": "python",
   "pygments_lexer": "ipython3",
   "version": "3.10.12"
  }
 },
 "nbformat": 4,
 "nbformat_minor": 2
}
