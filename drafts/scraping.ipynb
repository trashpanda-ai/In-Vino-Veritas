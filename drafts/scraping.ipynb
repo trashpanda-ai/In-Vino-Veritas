{
 "cells": [
  {
   "cell_type": "code",
   "execution_count": 5,
   "metadata": {},
   "outputs": [],
   "source": [
    "import requests\n",
    "import pandas as pd\n",
    "import numpy as np\n",
    "import random\n",
    "import pyarrow as pa\n",
    "import pyarrow.parquet as pq\n",
    "\n",
    "wine_cols = [\"ID\", \"Winery\",\"Name\", \"Vintage\",\"Country\", \"Region\", \"Wine_Style\", \"Wine_Type\", \"Wine_Category\", \"Grape_Type\",\n",
    "            \"Grape_ID\", 'Rating', 'Review_Count','Price', 'Acidity', \"Fizziness\", \"Intensity\", \"Sweetness\", \"Tannin\", \"Scrape_Date\"]\n",
    "\n",
    "#  This way we can run the pipeline daily and grow naturally and randomly\n",
    "# But lower numbers are more common than higher numbers\n",
    "# thus we need a higher density among the lower numbers\n",
    "def generate_numbers(n, max_val):\n",
    "    min = np.floor(max_val*0.1).astype(int)\n",
    "    small_numbers = np.random.exponential(scale=1.0, size=np.floor(n*0.5).astype(int))\n",
    "    small_numbers = np.floor(small_numbers * 0.5*min).astype(int)\n",
    "    large_numbers = np.random.exponential(scale=1.0, size=np.floor(n*0.5).astype(int))\n",
    "    large_numbers = np.floor(large_numbers * 0.5*max_val).astype(int)\n",
    "    numbers = np.concatenate((small_numbers, large_numbers))\n",
    "    return list(numbers)\n",
    "\n",
    "random_grapes = generate_numbers(20, 1500)\n",
    "\n",
    "temp_df = []\n",
    "\n",
    "number_of_pages = 15\n",
    "\n",
    "for y in random_grapes: #y range is the number of grape types (up to 200)  \n",
    "    for z in [1,2,3,4,7,24]: # z is the wine type (1: red, 2: white, 3: sparkling, 4: rosé 7: dessert wine 24: fortified wine) \n",
    "        for x in range(1, number_of_pages): # x range is the number of pages (up to ?? - depends on grape)  \n",
    "            # instead of parsing we found a somewhat unofficial API that we can use to get the data\n",
    "            # But normally one would only get 2000 results (https://stackoverflow.com/questions/71264253/web-scraping-vivino-using-python)\n",
    "            # thats why we analyzed all the data one can use as payload to design restarts for the random walk of API scraping\n",
    "            \n",
    "            r = requests.get(\n",
    "            \"https://www.vivino.com/api/explore/explore\",\n",
    "            params = {\n",
    "                #\"country_code\": \"en\",\n",
    "                'grape_ids[]':y,\n",
    "                #\"country_codes[]\":[\"pt\", \"es\", \"fr\", \"de\"],\n",
    "                \"currency_code\":\"EUR\",\n",
    "                #\"grape_filter\":\"varietal\",\n",
    "                \"min_rating\":\"1\",\n",
    "                #\"order_by\":\"price\", #  \"ratings_average\"\n",
    "                #\"order\":\"asc\",\n",
    "                \"page\": x,\n",
    "                \"price_range_max\":\"1500\",\n",
    "                \"price_range_min\":\"0\",\n",
    "                \"wine_type_ids[]\":z,\n",
    "                \"language\":\"en\",\n",
    "                \"per_page\":50\n",
    "            },\n",
    "                headers= {\n",
    "                \"User-Agent\": \"Mozilla/5.0 (Windows NT 10.0; Win64; x64; rv:66.0) Gecko/20100101 Firefox/66.0\",  \n",
    "                'Accept': 'application/json',\n",
    "                'Accept-Language': 'en-US,en;q=0.5',\n",
    "            }\n",
    "\n",
    "            )\n",
    "            try:\n",
    "                    \n",
    "                results = [\n",
    "                    (\n",
    "                    f'{t[\"vintage\"][\"wine\"][\"name\"]} {t[\"vintage\"][\"year\"]}',#ID\n",
    "                    t[\"vintage\"][\"wine\"][\"winery\"][\"name\"], #winery\n",
    "                    t[\"vintage\"][\"wine\"][\"name\"], #Name\n",
    "                    t[\"vintage\"][\"year\"], #Vintage\n",
    "                    t[\"vintage\"][\"wine\"][\"region\"][\"country\"][\"name\"], #Country\n",
    "                    t[\"vintage\"][\"wine\"][\"region\"][\"name\"], #region\n",
    "                    t[\"vintage\"][\"wine\"][\"style\"][\"seo_name\"], # wine style\n",
    "                    t[\"vintage\"][\"wine\"][\"style\"][\"varietal_name\"], # wine type\n",
    "                    t[\"vintage\"][\"wine\"][\"type_id\"], #wine type by id\n",
    "                    r.json()[\"selected_filters\"][0][\"items\"][0][\"name\"], # grape type\n",
    "                    r.json()[\"selected_filters\"][0][\"items\"][0][\"id\"], # grape id\n",
    "                    t[\"vintage\"][\"statistics\"][\"ratings_average\"], #rating\n",
    "                    t[\"vintage\"][\"statistics\"][\"ratings_count\"],# number of ratings\n",
    "                    t[\"price\"][\"amount\"],#price\n",
    "                    t[\"vintage\"][\"wine\"][\"taste\"][\"structure\"][\"acidity\"], # wine dimensions 1\n",
    "                    t[\"vintage\"][\"wine\"][\"taste\"][\"structure\"][\"fizziness\"],# wine dimensions 2\n",
    "                    t[\"vintage\"][\"wine\"][\"taste\"][\"structure\"][\"intensity\"], # wine dimensions 3\n",
    "                    t[\"vintage\"][\"wine\"][\"taste\"][\"structure\"][\"sweetness\"],# wine dimensions 4\n",
    "                    t[\"vintage\"][\"wine\"][\"taste\"][\"structure\"][\"tannin\"],    # wine dimensions 5\n",
    "                    # add scrape date as date\n",
    "                    pd.to_datetime('today').strftime(\"%d-%m-%Y\")\n",
    "                    )\n",
    "                    for t in r.json()[\"explore_vintage\"][\"matches\"]\n",
    "                    ]\n",
    "                temp_df.append(results)\n",
    "            except:\n",
    "                    pass\n",
    "\n",
    "if all(isinstance(i, list) for i in temp_df):\n",
    "    temp_df = [item for sublist in temp_df for item in sublist]  # Flatten the list of lists\n",
    "    wine_df = pd.DataFrame(temp_df, columns=wine_cols)\n"
   ]
  },
  {
   "cell_type": "code",
   "execution_count": 1,
   "metadata": {},
   "outputs": [
    {
     "ename": "NameError",
     "evalue": "name 'wine_df' is not defined",
     "output_type": "error",
     "traceback": [
      "\u001b[0;31m---------------------------------------------------------------------------\u001b[0m",
      "\u001b[0;31mNameError\u001b[0m                                 Traceback (most recent call last)",
      "\u001b[1;32m/Users/jonas/Documents/Uni/Erasmus/Data Engineering/GitHub/In_vino_veritas/drafts/scraping.ipynb Cell 2\u001b[0m line \u001b[0;36m1\n\u001b[0;32m----> <a href='vscode-notebook-cell:/Users/jonas/Documents/Uni/Erasmus/Data%20Engineering/GitHub/In_vino_veritas/drafts/scraping.ipynb#W1sZmlsZQ%3D%3D?line=0'>1</a>\u001b[0m wine_df\n",
      "\u001b[0;31mNameError\u001b[0m: name 'wine_df' is not defined"
     ]
    }
   ],
   "source": [
    "wine_df"
   ]
  },
  {
   "cell_type": "code",
   "execution_count": 104,
   "metadata": {},
   "outputs": [],
   "source": [
    "# map wine type id to wine type\n",
    "wine_df[\"Wine_Category\"] = wine_df[\"Wine_Category\"].replace({1: \"Red\", 2: \"White\", 3: \"Sparkling\", 4: \"Rosé\", 7: \"Dessert Wine\", 24: \"Fortified Wine\"})\n",
    "\n",
    "# Remove duplicates\n",
    "wine_df = wine_df.drop_duplicates(subset=['ID'])"
   ]
  },
  {
   "cell_type": "code",
   "execution_count": 105,
   "metadata": {},
   "outputs": [
    {
     "name": "stderr",
     "output_type": "stream",
     "text": [
      "/var/folders/p0/qbnst5tj08g1z35zyllsm5vc0000gn/T/ipykernel_9426/1589448178.py:2: SettingWithCopyWarning: \n",
      "A value is trying to be set on a copy of a slice from a DataFrame.\n",
      "Try using .loc[row_indexer,col_indexer] = value instead\n",
      "\n",
      "See the caveats in the documentation: https://pandas.pydata.org/pandas-docs/stable/user_guide/indexing.html#returning-a-view-versus-a-copy\n",
      "  wine_df['Region'] = wine_df['Region'].str.replace('Grand Cru', '')\n"
     ]
    }
   ],
   "source": [
    "#cleaning region data\n",
    "wine_df['Region'] = wine_df['Region'].str.replace('Grand Cru', '')"
   ]
  },
  {
   "cell_type": "code",
   "execution_count": 106,
   "metadata": {},
   "outputs": [
    {
     "name": "stderr",
     "output_type": "stream",
     "text": [
      "/var/folders/p0/qbnst5tj08g1z35zyllsm5vc0000gn/T/ipykernel_9426/793606011.py:2: SettingWithCopyWarning: \n",
      "A value is trying to be set on a copy of a slice from a DataFrame.\n",
      "Try using .loc[row_indexer,col_indexer] = value instead\n",
      "\n",
      "See the caveats in the documentation: https://pandas.pydata.org/pandas-docs/stable/user_guide/indexing.html#returning-a-view-versus-a-copy\n",
      "  wine_df['Rating'] = wine_df['Rating'].replace(0, np.nan)\n",
      "/var/folders/p0/qbnst5tj08g1z35zyllsm5vc0000gn/T/ipykernel_9426/793606011.py:3: SettingWithCopyWarning: \n",
      "A value is trying to be set on a copy of a slice from a DataFrame.\n",
      "Try using .loc[row_indexer,col_indexer] = value instead\n",
      "\n",
      "See the caveats in the documentation: https://pandas.pydata.org/pandas-docs/stable/user_guide/indexing.html#returning-a-view-versus-a-copy\n",
      "  wine_df['Vintage'] = wine_df['Vintage'].replace(\"N.V.\", np.nan)\n"
     ]
    }
   ],
   "source": [
    "#clean NaN values\n",
    "wine_df['Rating'] = wine_df['Rating'].replace(0, np.nan)\n",
    "wine_df['Vintage'] = wine_df['Vintage'].replace(\"N.V.\", np.nan)"
   ]
  },
  {
   "cell_type": "code",
   "execution_count": 121,
   "metadata": {},
   "outputs": [
    {
     "data": {
      "text/plain": [
       "array([2016, 2017, 2003, 2019, 1998, 2018, 2007, 2013, 2021, 2020, 2022,\n",
       "       2015, 2006, 2014, 2011, 2008, 2012, 2010, 2004, 1993, 2000, 1988,\n",
       "       1997, 1990, 1989, 1992, 2009, 2001, 1999, 2005, 1996, 1980, 2002,\n",
       "       1995,    0, 1987, 1994, 1966, 1975, 1985, 1991, 1968, 1934, 1952,\n",
       "       1965, 1969, 1963, 1941, 1940, 1978, 1944, 1967, 1982, 1977, 1962,\n",
       "       1928, 1947, 1896, 1919, 1920, 1924, 1936, 1927, 1899, 1932, 1922,\n",
       "       1937, 1983, 1986, 1976, 1935, 1950, 1970, 1959, 1972, 1961, 1949,\n",
       "       1981, 1979, 1971, 1948, 1925, 1938, 1913, 1908, 1933, 1926, 1891,\n",
       "       1956, 1939, 1954, 1984, 1929, 1921, 1953, 1955, 1964, 1973, 2023])"
      ]
     },
     "execution_count": 121,
     "metadata": {},
     "output_type": "execute_result"
    }
   ],
   "source": [
    "# drop rows of wine_df['Vintage'] with value '' (empty string)\n",
    "wine_df = wine_df[wine_df['Vintage'] != '']\n",
    "wine_df['Vintage'] = wine_df['Vintage'].fillna(0)\n",
    "wine_df['Vintage'].unique()"
   ]
  },
  {
   "cell_type": "code",
   "execution_count": 122,
   "metadata": {},
   "outputs": [
    {
     "data": {
      "text/plain": [
       "ID                object\n",
       "Winery            object\n",
       "Name              object\n",
       "Vintage            int64\n",
       "Country           object\n",
       "Region            object\n",
       "Wine_Style        object\n",
       "Wine_Type         object\n",
       "Wine_Category     object\n",
       "Grape Type        object\n",
       "Grape_ID           int64\n",
       "Rating           float64\n",
       "Review_Count       int64\n",
       "Price            float64\n",
       "Acidity          float64\n",
       "Fizziness        float64\n",
       "Intensity        float64\n",
       "Sweetness        float64\n",
       "Tannin           float64\n",
       "dtype: object"
      ]
     },
     "execution_count": 122,
     "metadata": {},
     "output_type": "execute_result"
    }
   ],
   "source": [
    "\n",
    "\n",
    "# redefine column types for parquet (otherwise it will be object)\n",
    "wine_df['Vintage'] = wine_df['Vintage'].astype(int)\n",
    "wine_df['Grape_ID'] = wine_df['Grape_ID'].astype(int)\n",
    "wine_df['Rating'] = wine_df['Rating'].astype(float)\n",
    "wine_df['Review_Count'] = wine_df['Review_Count'].astype(int)\n",
    "wine_df['Price'] = wine_df['Price'].astype(float)\n",
    "wine_df['Acidity'] = wine_df['Acidity'].astype(float)\n",
    "wine_df['Fizziness'] = wine_df['Fizziness'].astype(float)\n",
    "wine_df['Intensity'] = wine_df['Intensity'].astype(float)\n",
    "wine_df['Sweetness'] = wine_df['Sweetness'].astype(float)\n",
    "wine_df['Tannin'] = wine_df['Tannin'].astype(float)\n",
    "\n",
    "wine_df.dtypes\n"
   ]
  },
  {
   "cell_type": "code",
   "execution_count": 123,
   "metadata": {},
   "outputs": [],
   "source": [
    "wine_df.to_parquet('data.parquet', engine='fastparquet')"
   ]
  }
 ],
 "metadata": {
  "kernelspec": {
   "display_name": "Python 3",
   "language": "python",
   "name": "python3"
  },
  "language_info": {
   "codemirror_mode": {
    "name": "ipython",
    "version": 3
   },
   "file_extension": ".py",
   "mimetype": "text/x-python",
   "name": "python",
   "nbconvert_exporter": "python",
   "pygments_lexer": "ipython3",
   "version": "3.10.13"
  }
 },
 "nbformat": 4,
 "nbformat_minor": 2
}
