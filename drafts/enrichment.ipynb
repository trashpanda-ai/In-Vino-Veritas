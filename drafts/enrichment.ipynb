{
 "cells": [
  {
   "cell_type": "markdown",
   "metadata": {},
   "source": [
    "# Google Trends"
   ]
  },
  {
   "cell_type": "code",
   "execution_count": null,
   "metadata": {},
   "outputs": [],
   "source": [
    "#Setup and Import Required Libraries\n",
    "from pytrends.request import TrendReq\n",
    "\n",
    "\n",
    "pytrends = TrendReq(hl='en-US', tz=360, retries=5, backoff_factor=0.1 ) "
   ]
  },
  {
   "cell_type": "code",
   "execution_count": 31,
   "metadata": {},
   "outputs": [],
   "source": [
    "# build payload\n",
    "\n",
    "keyword = \"Cabernet\" # list of keywords to get data \n",
    "year = 2011\n",
    "timeframe = f'{year}-01-01 {year}-12-31' # time frame for data\n",
    "pytrends.build_payload([keyword], cat=0, timeframe=timeframe) # build payload"
   ]
  },
  {
   "cell_type": "code",
   "execution_count": 32,
   "metadata": {},
   "outputs": [],
   "source": [
    "data = pytrends.interest_over_time() \n",
    "data = data.reset_index() \n",
    "\n"
   ]
  },
  {
   "cell_type": "code",
   "execution_count": 34,
   "metadata": {},
   "outputs": [
    {
     "data": {
      "text/plain": [
       "<matplotlib.legend.Legend at 0x7fa490eded00>"
      ]
     },
     "execution_count": 34,
     "metadata": {},
     "output_type": "execute_result"
    },
    {
     "data": {
      "image/png": "[encoded data removed]",
      "text/plain": [
       "<Figure size 432x288 with 1 Axes>"
      ]
     },
     "metadata": {
      "needs_background": "light"
     },
     "output_type": "display_data"
    }
   ],
   "source": [
    "# plot the data \n",
    "import matplotlib.pyplot as plt\n",
    "plt.plot(data['date'], data[keyword])\n",
    "# add a median and average line\n",
    "plt.axhline(y=data[keyword].median(), color='r', linestyle='-')\n",
    "plt.axhline(y=data[keyword].mean(), color='g', linestyle='-')\n",
    "# add a title and axis labels and legend\n",
    "plt.title(f'{keyword} Searches in {year}')\n",
    "plt.xlabel('Date')\n",
    "plt.ylabel('Search Frequency')\n",
    "plt.legend([keyword, 'Median', 'Mean'], loc='upper left')\n"
   ]
  },
  {
   "cell_type": "code",
   "execution_count": 76,
   "metadata": {},
   "outputs": [],
   "source": [
    "#Setup and Import Required Libraries\n",
    "from pytrends.request import TrendReq\n",
    "pytrends = TrendReq(hl='en-US', tz=360, retries=5, backoff_factor=0.1 ) \n",
    "import statistics\n",
    "\n",
    "# lets build a function to get the data for a list of keywords\n",
    "def get_trend_data(keyword, year):\n",
    "    timeframe = f'{year}-01-01 {year}-12-31'\n",
    "    pytrends.build_payload([keyword], cat=0, timeframe=timeframe)\n",
    "    data = pytrends.interest_over_time()\n",
    "    return data.loc[:, keyword].tolist()\n",
    "\n",
    "def get_aggregates(data):\n",
    "    return statistics.median(data), statistics.mean(data)\n"
   ]
  },
  {
   "cell_type": "code",
   "execution_count": 81,
   "metadata": {},
   "outputs": [],
   "source": [
    "\n",
    "m, n = get_aggregates(get_trend_data(\"Cabernet\", 2011))"
   ]
  },
  {
   "cell_type": "markdown",
   "metadata": {},
   "source": [
    "# Wine Quality"
   ]
  },
  {
   "cell_type": "code",
   "execution_count": 88,
   "metadata": {},
   "outputs": [],
   "source": [
    "from ucimlrepo import fetch_ucirepo \n",
    "import pandas as pd\n",
    "import pyarrow"
   ]
  },
  {
   "cell_type": "code",
   "execution_count": 94,
   "metadata": {},
   "outputs": [],
   "source": [
    "wine_quality = fetch_ucirepo(id=186) \n",
    "df = pd.DataFrame(wine_quality.data.original)\n",
    "\n",
    "# save data to parquet\n",
    "df.to_parquet('wine_quality.parquet')"
   ]
  },
  {
   "cell_type": "markdown",
   "metadata": {},
   "source": [
    "# Harvest data"
   ]
  },
  {
   "cell_type": "code",
   "execution_count": 6,
   "metadata": {},
   "outputs": [],
   "source": [
    "import faostat\n",
    "import pandas as pd "
   ]
  },
  {
   "cell_type": "markdown",
   "metadata": {},
   "source": [
    "## offline"
   ]
  },
  {
   "cell_type": "code",
   "execution_count": 15,
   "metadata": {},
   "outputs": [],
   "source": [
    "#Offline:\n",
    "#faostat.list_pars('QCL')\n",
    "#grapes = faostat.get_data_df('QCL', pars={'item':'560'}, show_flags=True, null_values=True)\n",
    "#wine = faostat.get_data_df('QCL', pars={'item':'564'}, show_flags=True, null_values=True)\n",
    "# save data to parquet\n",
    "#grapes.to_parquet('grapes.parquet')\n",
    "#wine.to_parquet('wine.parquet')\n"
   ]
  },
  {
   "cell_type": "code",
   "execution_count": null,
   "metadata": {},
   "outputs": [],
   "source": [
    "# load data from parquet\n",
    "import pandas as pd\n",
    "import pyarrow\n",
    "grapes = pd.read_parquet('grapes.parquet')\n",
    "wine = pd.read_parquet('wine.parquet')\n"
   ]
  },
  {
   "cell_type": "code",
   "execution_count": 41,
   "metadata": {},
   "outputs": [
    {
     "data": {
      "text/plain": [
       "(697910.0, 7900120.0, 4985862.0)"
      ]
     },
     "execution_count": 41,
     "metadata": {},
     "output_type": "execute_result"
    }
   ],
   "source": [
    "# get the data from the df grapes for the year 2011 and the area Argentina\n",
    "#make this a def function\n",
    "def get_data(df, year, area):\n",
    "    return df.loc[(df['Year'] == str(year)) & (df['Area'] == area)]\n",
    "\n",
    "# make def to get data of Column \"Value\" for Element = \"Area harvested\"\n",
    "def get_value(df, element):\n",
    "    return float(df.loc[df['Element'] == element]['Value'])\n",
    "\n",
    "# make def to get three values for a country and year\n",
    "def get_three_values(grapes, wine, country, year):\n",
    "    df1 = get_data(grapes, year, country)\n",
    "    df2 = get_data(wine, year, country)\n",
    "    return get_value(df1, 'Area harvested'), get_value(df1, 'Production'), get_value(df2, 'Production')\n",
    "\n",
    "# get three values for a country and year\n",
    "get_three_values(grapes, wine, 'Italy', '2019')\n",
    "\n"
   ]
  },
  {
   "cell_type": "markdown",
   "metadata": {},
   "source": [
    "## Online"
   ]
  },
  {
   "cell_type": "code",
   "execution_count": 35,
   "metadata": {},
   "outputs": [],
   "source": [
    "#online:\n",
    "# make a def to get data for a country and year\n",
    "def get_country_data(country, year):\n",
    "    name_dict = faostat.get_par('QCL', 'area')\n",
    "    df1 = faostat.get_data_df('QCL', pars={'item':'560', 'area':name_dict[country], 'year':year}, show_flags=True, null_values=True)\n",
    "    df2 = faostat.get_data_df('QCL', pars={'item':'564', 'area':name_dict[country], 'year':year}, show_flags=True, null_values=True)\n",
    "    return df1,df2\n",
    "\n",
    "d1,d2 = get_country_data('Italy', '2019')"
   ]
  },
  {
   "cell_type": "markdown",
   "metadata": {},
   "source": [
    "Yield is the Production divided by the Area harvested, so we only need 2 out of 3 for the first dataframe\n",
    "and we only need Production for Wine"
   ]
  },
  {
   "cell_type": "code",
   "execution_count": 38,
   "metadata": {},
   "outputs": [
    {
     "data": {
      "text/plain": [
       "(697910.0, 7900120.0, 4985862.0)"
      ]
     },
     "execution_count": 38,
     "metadata": {},
     "output_type": "execute_result"
    }
   ],
   "source": [
    "# make def to get data of Column \"Value\" for Element = \"Area harvested\"\n",
    "def get_value(df, element):\n",
    "    return float(df.loc[df['Element'] == element]['Value'])\n",
    "\n",
    "# make def to get three values for a country and year\n",
    "def get_three_values(country, year):\n",
    "    df1, df2 = get_country_data(country, year)\n",
    "    return get_value(df1, 'Area harvested'), get_value(df1, 'Production'), get_value(df2, 'Production')\n",
    "\n",
    "# get three values for a country and year\n",
    "get_three_values('Italy', '2019')"
   ]
  },
  {
   "cell_type": "markdown",
   "metadata": {},
   "source": [
    "# Weather Data\n",
    "meteostat vs open-meteo"
   ]
  },
  {
   "cell_type": "code",
   "execution_count": 1,
   "metadata": {},
   "outputs": [],
   "source": [
    "import numpy as np \n",
    "from geopy.exc import GeocoderTimedOut \n",
    "from geopy.geocoders import Nominatim \n",
    "\n",
    "from datetime import datetime\n",
    "from meteostat import  Daily, Stations\n"
   ]
  },
  {
   "cell_type": "code",
   "execution_count": 22,
   "metadata": {},
   "outputs": [],
   "source": [
    "# function to find the coordinate of a given city  \n",
    "def findGeocode(city): \n",
    "       \n",
    "    # try and catch is used to overcome the exception thrown by geolocator \n",
    "    try:  \n",
    "        geolocator = Nominatim(user_agent=\"your_app_name\") \n",
    "          \n",
    "        return geolocator.geocode(city, language='en') \n",
    "      \n",
    "    except GeocoderTimedOut: \n",
    "          \n",
    "        return findGeocode(city)     \n"
   ]
  },
  {
   "cell_type": "code",
   "execution_count": 26,
   "metadata": {},
   "outputs": [],
   "source": [
    "# make def to return latitude and longitude for a city given a country (more reliable because sometimes the same city name exists in different countries)\n",
    "def get_lat_long(city, country):\n",
    "    if findGeocode(city) != None: \n",
    "        if findGeocode(city).raw[\"display_name\"].split(\", \")[-1] == country:\n",
    "            return findGeocode(city).latitude, findGeocode(city).longitude\n",
    "        #return findGeocode(city).latitude, findGeocode(city).longitude\n",
    "    else:\n",
    "        # open csv file and append the data city to clean it later\n",
    "        with open('log.csv', 'a') as f:\n",
    "            f.write(city + '\\n')\n",
    "        return np.nan, np.nan"
   ]
  },
  {
   "cell_type": "code",
   "execution_count": 27,
   "metadata": {},
   "outputs": [],
   "source": [
    "# average a df per column based on a multiindex if its non empty\n",
    "def average_df(df):\n",
    "    if not df.empty:\n",
    "        df = df.groupby(level=1).mean()\n",
    "    return df\n",
    "\n",
    "# make def to get data based on a city and year from the n nearest stations\n",
    "def get_weather(city, country, year, n):\n",
    "    start = datetime(year, 1, 1)\n",
    "    end = datetime(year, 12, 31)\n",
    "    lat, lon = get_lat_long(city,country)\n",
    "    stations = Stations()\n",
    "    stations = stations.nearby(lat, lon)\n",
    "    station = stations.fetch(n)\n",
    "    data = Daily(station, start, end)\n",
    "    data = data.fetch()\n",
    "    return average_df(data)"
   ]
  },
  {
   "cell_type": "markdown",
   "metadata": {},
   "source": [
    "### Reduce to growth period"
   ]
  },
  {
   "cell_type": "code",
   "execution_count": 28,
   "metadata": {},
   "outputs": [],
   "source": [
    "# get df for certain time frame based on index\n",
    "def get_growth_period(df, start, end):\n",
    "    return df.loc[start:end]\n",
    "#Growth period: may 11th - september 20th \n",
    "#https://en.wikipedia.org/wiki/Harvest_(wine)\n",
    "#df = get_growth_period(df, '2019-03-11', '2019-09-20')"
   ]
  },
  {
   "cell_type": "markdown",
   "metadata": {},
   "source": [
    "### get volatility"
   ]
  },
  {
   "cell_type": "code",
   "execution_count": 29,
   "metadata": {},
   "outputs": [],
   "source": [
    "# get volatility of a single column\n",
    "def get_volatility(df, column):\n",
    "    return df[column].std()/df[column].mean()\n"
   ]
  },
  {
   "cell_type": "markdown",
   "metadata": {},
   "source": [
    "### Longest drought"
   ]
  },
  {
   "cell_type": "code",
   "execution_count": 30,
   "metadata": {},
   "outputs": [],
   "source": [
    "# get the longest consecutive sequence of a value in a df\n",
    "def longest_sequence(df, column, value):\n",
    "    return df[column].eq(value).astype(int).groupby(df[column].ne(value).cumsum()).sum().max()\n"
   ]
  },
  {
   "cell_type": "markdown",
   "metadata": {},
   "source": [
    "### Longest rain period"
   ]
  },
  {
   "cell_type": "code",
   "execution_count": 31,
   "metadata": {},
   "outputs": [],
   "source": [
    "# get the longest consecutive sequence of the absence (!) of a value in a df\n",
    "# this is the longest sequence of days with rain\n",
    "def longest_sequence_no(df, column, value):\n",
    "    return df[column].ne(value).astype(int).groupby(df[column].eq(value).cumsum()).sum().max()"
   ]
  },
  {
   "cell_type": "markdown",
   "metadata": {},
   "source": [
    "### Avg Rain"
   ]
  },
  {
   "cell_type": "code",
   "execution_count": 32,
   "metadata": {},
   "outputs": [],
   "source": [
    "#Vines need between 400 and 600 mm of rain per year. \n",
    "#A regular supply of water throughout the growth cycle is needed for a high quality crop.\n",
    "#https://www.idealwine.info/conditions-necessary-great-wine-part-12/\n",
    "# get the avg of the column prcp for a df\n",
    "def get_avg_prcp(df):\n",
    "    return df['prcp'].mean()"
   ]
  },
  {
   "cell_type": "markdown",
   "metadata": {},
   "source": [
    "### No of Days above 35 degrees "
   ]
  },
  {
   "cell_type": "code",
   "execution_count": 33,
   "metadata": {},
   "outputs": [],
   "source": [
    "#At temperatures below 10°C and above 35°C, photosynthesis will be disrupted and vines will not grow properly.\n",
    "# count number of rows in a df column tmax above a threshold\n",
    "def count_above(df, column, threshold):\n",
    "    return df[df[column] > threshold][column].count()"
   ]
  },
  {
   "cell_type": "markdown",
   "metadata": {},
   "source": [
    "### number of days below 10 degrees\n"
   ]
  },
  {
   "cell_type": "code",
   "execution_count": 34,
   "metadata": {},
   "outputs": [],
   "source": [
    "# count number of rows in a df column tmax under a threshold\n",
    "\n",
    "def count_under(df, column, threshold):\n",
    "    return df[df[column] < threshold][column].count()"
   ]
  },
  {
   "cell_type": "markdown",
   "metadata": {},
   "source": [
    "### coulure wspd"
   ]
  },
  {
   "cell_type": "code",
   "execution_count": 35,
   "metadata": {},
   "outputs": [],
   "source": [
    "#strong wind around june --> coulure \n",
    "# get the avg of the column wspd for a df\n",
    "def get_avg_wspd(df):\n",
    "    df = get_growth_period(df, '2019-05-15', '2019-07-15')\n",
    "    return df['wspd'].mean()"
   ]
  },
  {
   "cell_type": "markdown",
   "metadata": {},
   "source": [
    "### May July Rain"
   ]
  },
  {
   "cell_type": "code",
   "execution_count": 36,
   "metadata": {},
   "outputs": [],
   "source": [
    "#Too much rain during the May-July period --> diseases such as mildew or oidium\n",
    "# sum the column prcp for a df\n",
    "def get_sum_prcp(df):\n",
    "    df = get_growth_period(df, '2019-05-15', '2019-07-15')\n",
    "    return df['prcp'].sum()"
   ]
  },
  {
   "cell_type": "markdown",
   "metadata": {},
   "source": [
    "## Combined Features\n",
    "```\n",
    "Temp Vola: get_volatility(df, 'tavg')\n",
    "Rain Vola: get_volatility(df, 'prcp')\n",
    "Longest drought: longest_sequence(df, 'prcp', 0)\n",
    "Longest Rain: longest_sequence_no(df, 'prcp', 0) \n",
    "Avg Rain: get_avg_prcp(df)\n",
    "NoDays35: count_above(df, 'tmax', 35)\n",
    "NoDays10: count_under(df, 'tmin', 10)\n",
    "NoDays0: count_under(df, 'tmin', 0)\n",
    "ColourWspd: get_avg_wspd(df)\n",
    "MayJulyRain: get_sum_prcp(df)\n",
    "```"
   ]
  },
  {
   "cell_type": "code",
   "execution_count": 37,
   "metadata": {},
   "outputs": [],
   "source": [
    "# combine all function in one function\n",
    "\n",
    "def get_weather_features(city, country, year, n):\n",
    "    raw = get_weather(city, country, year, n)\n",
    "    df = get_growth_period(raw, '2019-03-11', '2019-09-20')\n",
    "    return get_volatility(df, 'tavg'), get_volatility(df, 'prcp'), longest_sequence(df, 'prcp', 0), longest_sequence_no(df, 'prcp', 0), get_avg_prcp(df), count_above(df, 'tmax', 35), count_under(df, 'tmin', 10), count_under(df, 'tmin', 0), get_avg_wspd(df), get_sum_prcp(df)"
   ]
  },
  {
   "cell_type": "markdown",
   "metadata": {},
   "source": [
    "#### Example:"
   ]
  },
  {
   "cell_type": "code",
   "execution_count": 40,
   "metadata": {},
   "outputs": [
    {
     "data": {
      "text/plain": [
       "(0.2721517035543977,\n",
       " 2.4652156924345996,\n",
       " 16,\n",
       " 7,\n",
       " 1.7659793814432982,\n",
       " 4,\n",
       " 52,\n",
       " 0,\n",
       " 13.994758064516128,\n",
       " 122.6)"
      ]
     },
     "execution_count": 40,
     "metadata": {},
     "output_type": "execute_result"
    }
   ],
   "source": [
    "Vola_Temp, Vola_Rain, Longest_Dry, Longest_Wet, Avg_Rain, Count_above35, Count_under10, Count_under0, Coulure_Wind, June_Rain = get_weather_features('Bordeaux','France', 2019, 5)\n",
    "get_weather_features('Bordeaux','France', 2019, 5)"
   ]
  }
 ],
 "metadata": {
  "kernelspec": {
   "display_name": "Python 3",
   "language": "python",
   "name": "python3"
  },
  "language_info": {
   "codemirror_mode": {
    "name": "ipython",
    "version": 3
   },
   "file_extension": ".py",
   "mimetype": "text/x-python",
   "name": "python",
   "nbconvert_exporter": "python",
   "pygments_lexer": "ipython3",
   "version": "3.9.12"
  }
 },
 "nbformat": 4,
 "nbformat_minor": 2
}
