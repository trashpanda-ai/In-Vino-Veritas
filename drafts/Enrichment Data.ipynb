{
 "cells": [
  {
   "cell_type": "markdown",
   "metadata": {},
   "source": [
    "# Google Trends"
   ]
  },
  {
   "cell_type": "code",
   "execution_count": 1,
   "metadata": {},
   "outputs": [],
   "source": [
    "#Setup and Import Required Libraries\n",
    "from pytrends.request import TrendReq\n",
    "\n",
    "\n",
    "pytrends = TrendReq(hl='en-US', tz=360, retries=3, backoff_factor=0.1 ) "
   ]
  },
  {
   "cell_type": "code",
   "execution_count": 2,
   "metadata": {},
   "outputs": [],
   "source": [
    "# build payload\n",
    "\n",
    "keyword = \"Cabernet\" # list of keywords to get data \n",
    "year = 2011\n",
    "timeframe = f'{year}-01-01 {year}-12-31' # time frame for data\n",
    "pytrends.build_payload([keyword], cat=0, timeframe=timeframe) # build payload"
   ]
  },
  {
   "cell_type": "code",
   "execution_count": 3,
   "metadata": {},
   "outputs": [],
   "source": [
    "data = pytrends.interest_over_time() \n",
    "data = data.reset_index() \n",
    "\n"
   ]
  },
  {
   "cell_type": "code",
   "execution_count": 4,
   "metadata": {},
   "outputs": [
    {
     "data": {
      "text/plain": [
       "<matplotlib.legend.Legend at 0x7fd73c6da430>"
      ]
     },
     "execution_count": 4,
     "metadata": {},
     "output_type": "execute_result"
    },
    {
     "data": {
      "image/png": "[encoded data removed]",
      "text/plain": [
       "<Figure size 432x288 with 1 Axes>"
      ]
     },
     "metadata": {
      "needs_background": "light"
     },
     "output_type": "display_data"
    }
   ],
   "source": [
    "# plot the data \n",
    "import matplotlib.pyplot as plt\n",
    "plt.plot(data['date'], data[keyword])\n",
    "# add a median and average line\n",
    "plt.axhline(y=data[keyword].median(), color='r', linestyle='-')\n",
    "plt.axhline(y=data[keyword].mean(), color='g', linestyle='-')\n",
    "# add a title and axis labels and legend\n",
    "plt.title(f'{keyword} Searches in {year}')\n",
    "plt.xlabel('Date')\n",
    "plt.ylabel('Search Frequency')\n",
    "plt.legend([keyword, 'Median', 'Mean'], loc='upper left')\n"
   ]
  },
  {
   "cell_type": "code",
   "execution_count": 8,
   "metadata": {},
   "outputs": [],
   "source": [
    "\n",
    "import numpy as np\n",
    "#Setup and Import Required Libraries\n",
    "from pytrends.request import TrendReq\n",
    "import statistics\n",
    "\n",
    "# from selenium import webdriver\n",
    "import time\n",
    "# def get_cookie():\n",
    "#     options = webdriver.ChromeOptions()\n",
    "#     options.add_argument(\"--headless\")\n",
    "#     driver = webdriver.Chrome(options=options)\n",
    "#     driver.get(\"https://trends.google.com/\")\n",
    "#     time.sleep(5)\n",
    "#     cookie = driver.get_cookie(\"NID\")[\"value\"]\n",
    "#     driver.quit()\n",
    "#     return cookie\n",
    "\n",
    "# nid_cookie = f\"NID={get_cookie()}\""
   ]
  },
  {
   "cell_type": "markdown",
   "metadata": {},
   "source": [
    "Manuall cookies:"
   ]
  },
  {
   "cell_type": "code",
   "execution_count": 9,
   "metadata": {},
   "outputs": [],
   "source": [
    "headers = {\n",
    "    'Accept': 'text/html,application/xhtml+xml,application/xml;q=0.9,*/*;q=0.8',\n",
    "    'Sec-Fetch-Site': 'same-origin',\n",
    "    'Cookie': 'SIDCC=ACA-OxOnJOC7DS5KiRxIT_fR2QkEWCcC0qnRq2CsEQsF4Sys_RO_vNC35Crs2MB5YdXFgAsV; __Secure-1PSIDCC=ACA-OxP0ptWglmVe-8Y9UjZEA2PjryZYF9U8Da7mYl3v3-UARlu_SF6igP2ExrnNjJIq3n_0; __Secure-3PSIDCC=ACA-OxNgjKevY3Zow3HLaWD6avR6m0Vw9brDKI_2YZ1HqqVhrksBkErpBGhNVcwjaR90uCTacQ; __Secure-1PSIDTS=sidts-CjIBNiGH7jHN0DIAoxvWfLffElvkiz4xuHvf4HlXznYgJbCKXTpI1Vd7cNt473ct6lIW0RAA; __Secure-3PSIDTS=sidts-CjIBNiGH7jHN0DIAoxvWfLffElvkiz4xuHvf4HlXznYgJbCKXTpI1Vd7cNt473ct6lIW0RAA; OTZ=7313007_52_52_123900_48_436380; APISID=rGw9b4LlhUzdu9JK/A5FCfs42fPt9ML6c_; HSID=AyERsaCQdeoOCSTaz; NID=511=X8aF5DKahzhIfJnmosQ1ObPEG8zuH2izcRIKsuqYeEylpV2ZHP3pSelOtraRPMq4pgy2wjm7kxo6c7lmnqSxHev6GySI8oINAQB_awzDtax9YDqHEShrtK_WLysYWiVDRMvy_LrNkEmF8G2N13timw27rWOVsasND3EDY4hkYo3oliLUp5CZL3xjGC_M2hz2JvuR5I-ICNWpO32rj4F_ocrG43zfkegl5cJHGT2MCiSUriZCbxP1kaMBPQTG-_Y4JTRakj4E; SAPISID=xtm7yO5yqBMIfMO_/AraNHIFdvZpGK-nKQ; SID=dQitCu_1-9kn51deqjTS85Cx8dHgq3zcTMHZonuWCvwC6Ty3PQihDzktg1v-0nRdHwAujA.; SSID=Agfst-sFEI8JQacAA; __Secure-1PAPISID=xtm7yO5yqBMIfMO_/AraNHIFdvZpGK-nKQ; __Secure-1PSID=dQitCu_1-9kn51deqjTS85Cx8dHgq3zcTMHZonuWCvwC6Ty3nqCQMxgz8872_h16xzPhcA.; __Secure-3PAPISID=xtm7yO5yqBMIfMO_/AraNHIFdvZpGK-nKQ; __Secure-3PSID=dQitCu_1-9kn51deqjTS85Cx8dHgq3zcTMHZonuWCvwC6Ty3BncuJgujlOIb3nvCSH52zQ.',\n",
    "    'Sec-Fetch-Dest': 'document',\n",
    "    'Accept-Language': 'en-gb',\n",
    "    'Sec-Fetch-Mode': 'navigate',\n",
    "    'Host': 'trends.google.com',\n",
    "    'User-Agent': 'Mozilla/5.0 (Macintosh; Intel Mac OS X 10_15_7) AppleWebKit/605.1.15 (KHTML, like Gecko) Version/16.6 Safari/605.1.15',\n",
    "    'Referer': 'https://trends.google.com/',\n",
    "    # 'Accept-Encoding': 'gzip, deflate, br',\n",
    "    'Connection': 'keep-alive',\n",
    "}"
   ]
  },
  {
   "cell_type": "code",
   "execution_count": 10,
   "metadata": {},
   "outputs": [],
   "source": [
    "\n",
    "\n",
    "# lets build a function to get the data for a list of keywords\n",
    "def get_trend_data(keyword, year):\n",
    "    time.sleep(1)\n",
    "    pytrends = TrendReq(hl='en-US', tz=360, retries=3, backoff_factor=0.1, requests_args={\"headers\": headers}) \n",
    "    timeframe = f'{year}-01-01 {year}-12-31'\n",
    "    if int(year) < 2004:\n",
    "        return np.nan, np.nan\n",
    "    else:\n",
    "        try:\n",
    "            pytrends.build_payload([keyword], cat=0, timeframe=timeframe)\n",
    "            data = pytrends.interest_over_time()\n",
    "            return data.loc[:, keyword].tolist()\n",
    "        except:\n",
    "            time.sleep(1)\n",
    "            return np.nan, np.nan\n",
    "\n",
    "def get_aggregates(data):\n",
    "    return statistics.median(data), statistics.mean(data)\n"
   ]
  },
  {
   "cell_type": "code",
   "execution_count": 11,
   "metadata": {},
   "outputs": [],
   "source": [
    "\n",
    "m, n = get_aggregates(get_trend_data(\"Cabernet\", 2011))"
   ]
  },
  {
   "cell_type": "markdown",
   "metadata": {},
   "source": [
    "# Wine Quality"
   ]
  },
  {
   "cell_type": "code",
   "execution_count": 11,
   "metadata": {},
   "outputs": [],
   "source": [
    "from ucimlrepo import fetch_ucirepo \n",
    "import pandas as pd\n",
    "import pyarrow"
   ]
  },
  {
   "cell_type": "code",
   "execution_count": 12,
   "metadata": {},
   "outputs": [],
   "source": [
    "wine_quality = fetch_ucirepo(id=186) \n",
    "df = pd.DataFrame(wine_quality.data.original)\n",
    "\n",
    "# save data to parquet\n",
    "df.to_parquet('data/wine_quality.parquet')"
   ]
  },
  {
   "cell_type": "markdown",
   "metadata": {},
   "source": [
    "# Harvest data"
   ]
  },
  {
   "cell_type": "code",
   "execution_count": 13,
   "metadata": {},
   "outputs": [],
   "source": [
    "import faostat\n",
    "import pandas as pd "
   ]
  },
  {
   "cell_type": "markdown",
   "metadata": {},
   "source": [
    "## offline"
   ]
  },
  {
   "cell_type": "code",
   "execution_count": 14,
   "metadata": {},
   "outputs": [],
   "source": [
    "#Offline:\n",
    "#faostat.list_pars('QCL')\n",
    "#grapes = faostat.get_data_df('QCL', pars={'item':'560'}, show_flags=True, null_values=True)\n",
    "#wine = faostat.get_data_df('QCL', pars={'item':'564'}, show_flags=True, null_values=True)\n",
    "# save data to parquet\n",
    "#grapes.to_parquet('grapes.parquet')\n",
    "#wine.to_parquet('wine.parquet')\n"
   ]
  },
  {
   "cell_type": "code",
   "execution_count": 15,
   "metadata": {},
   "outputs": [],
   "source": [
    "# load data from parquet\n",
    "import pandas as pd\n",
    "import pyarrow\n",
    "grapes = pd.read_parquet('data/grapes.parquet')\n",
    "wine = pd.read_parquet('data/wine.parquet')\n"
   ]
  },
  {
   "cell_type": "code",
   "execution_count": 16,
   "metadata": {},
   "outputs": [
    {
     "data": {
      "text/plain": [
       "(697910.0, 7900120.0, 4985862.0)"
      ]
     },
     "execution_count": 16,
     "metadata": {},
     "output_type": "execute_result"
    }
   ],
   "source": [
    "# get the data from the df grapes for the year 2011 and the area Argentina\n",
    "#make this a def function\n",
    "def get_data(df, year, area):\n",
    "    return df.loc[(df['Year'] == str(year)) & (df['Area'] == area)]\n",
    "\n",
    "# make def to get data of Column \"Value\" for Element = \"Area harvested\"\n",
    "def get_value(df, element):\n",
    "    return float(df.loc[df['Element'] == element]['Value'])\n",
    "\n",
    "# make def to get three values for a country and year\n",
    "def get_three_values(grapes, wine, country, year):\n",
    "    df1 = get_data(grapes, year, country)\n",
    "    df2 = get_data(wine, year, country)\n",
    "    return get_value(df1, 'Area harvested'), get_value(df1, 'Production'), get_value(df2, 'Production')\n",
    "\n",
    "# get three values for a country and year\n",
    "get_three_values(grapes, wine, 'Italy', '2019')\n",
    "\n"
   ]
  },
  {
   "cell_type": "markdown",
   "metadata": {},
   "source": [
    "## Online"
   ]
  },
  {
   "cell_type": "code",
   "execution_count": 17,
   "metadata": {},
   "outputs": [],
   "source": [
    "#online:\n",
    "# make a def to get data for a country and year\n",
    "def get_country_data(country, year):\n",
    "    name_dict = faostat.get_par('QCL', 'area')\n",
    "    df1 = faostat.get_data_df('QCL', pars={'item':'560', 'area':name_dict[country], 'year':year}, show_flags=True, null_values=True)\n",
    "    df2 = faostat.get_data_df('QCL', pars={'item':'564', 'area':name_dict[country], 'year':year}, show_flags=True, null_values=True)\n",
    "    return df1,df2\n",
    "\n",
    "d1,d2 = get_country_data('Italy', '2019')"
   ]
  },
  {
   "cell_type": "markdown",
   "metadata": {},
   "source": [
    "Yield is the Production divided by the Area harvested, so we only need 2 out of 3 for the first dataframe\n",
    "and we only need Production for Wine"
   ]
  },
  {
   "cell_type": "code",
   "execution_count": 18,
   "metadata": {},
   "outputs": [
    {
     "data": {
      "text/plain": [
       "(697910.0, 7900120.0, 4985862.0)"
      ]
     },
     "execution_count": 18,
     "metadata": {},
     "output_type": "execute_result"
    }
   ],
   "source": [
    "# make def to get data of Column \"Value\" for Element = \"Area harvested\"\n",
    "def get_value(df, element):\n",
    "    return float(df.loc[df['Element'] == element]['Value'])\n",
    "\n",
    "# make def to get three values for a country and year\n",
    "def get_three_values(country, year):\n",
    "    df1, df2 = get_country_data(country, year)\n",
    "    return get_value(df1, 'Area harvested'), get_value(df1, 'Production'), get_value(df2, 'Production')\n",
    "\n",
    "# get three values for a country and year\n",
    "get_three_values('Italy', '2019')"
   ]
  },
  {
   "cell_type": "markdown",
   "metadata": {},
   "source": [
    "# Weather Data\n",
    "meteostat vs open-meteo"
   ]
  },
  {
   "cell_type": "code",
   "execution_count": 19,
   "metadata": {},
   "outputs": [],
   "source": [
    "import numpy as np \n",
    "from geopy.exc import GeocoderTimedOut \n",
    "from geopy.geocoders import Nominatim \n",
    "\n",
    "from datetime import datetime\n",
    "from meteostat import  Daily, Stations\n"
   ]
  },
  {
   "cell_type": "code",
   "execution_count": 20,
   "metadata": {},
   "outputs": [],
   "source": [
    "# function to find the coordinate of a given city  \n",
    "def findGeocode(city): \n",
    "       \n",
    "    # try and catch is used to overcome the exception thrown by geolocator \n",
    "    try:  \n",
    "        geolocator = Nominatim(user_agent=\"your_app_name\") \n",
    "          \n",
    "        return geolocator.geocode(city, language='en') \n",
    "      \n",
    "    except GeocoderTimedOut: \n",
    "          \n",
    "        return findGeocode(city)     \n"
   ]
  },
  {
   "cell_type": "code",
   "execution_count": 21,
   "metadata": {},
   "outputs": [],
   "source": [
    "# make def to return latitude and longitude for a city given a country (more reliable because sometimes the same city name exists in different countries)\n",
    "def get_lat_long(city, country):\n",
    "    if findGeocode(city) != None: \n",
    "        if findGeocode(city).raw[\"display_name\"].split(\", \")[-1] == country:\n",
    "            return findGeocode(city).latitude, findGeocode(city).longitude\n",
    "        #return findGeocode(city).latitude, findGeocode(city).longitude\n",
    "    else:\n",
    "        # open csv file and append the data city to clean it later\n",
    "        with open('log.csv', 'a') as f:\n",
    "            # format: City: \"city\", Country: \"country\", Date: \"date\" (only date, not time)\n",
    "            f.write(\"City: \" + city + \", Country: \" + country + \", Date: \" +str(datetime.today().strftime('%d-%m-%Y')) + '\\n')\n",
    "        return np.nan, np.nan"
   ]
  },
  {
   "cell_type": "code",
   "execution_count": 22,
   "metadata": {},
   "outputs": [],
   "source": [
    "# average a df per column based on a multiindex if its non empty\n",
    "def average_df(df):\n",
    "    if not df.empty:\n",
    "        df = df.groupby(level=1).mean()\n",
    "    return df\n",
    "\n",
    "# make def to get data based on a city and year from the n nearest stations\n",
    "def get_weather(city, country, year, n):\n",
    "    start = datetime(int(year), 1, 1)\n",
    "    end = datetime(int(year), 12, 31)\n",
    "\n",
    "    lat, lon = get_lat_long(city,country)\n",
    "        # check if not nan\n",
    "    if np.isnan(lat) or np.isnan(lon):\n",
    "        # break if nan\n",
    "        return np.nan\n",
    "    else:\n",
    "        stations = Stations()\n",
    "        stations = stations.nearby(lat, lon)\n",
    "        station = stations.fetch(n)\n",
    "        data = Daily(station, start, end)\n",
    "        data = data.fetch()\n",
    "        return average_df(data)"
   ]
  },
  {
   "cell_type": "markdown",
   "metadata": {},
   "source": [
    "### Reduce to growth period"
   ]
  },
  {
   "cell_type": "code",
   "execution_count": 23,
   "metadata": {},
   "outputs": [],
   "source": [
    "df = get_weather('Bordeaux', 'France', 2019, 5)"
   ]
  },
  {
   "cell_type": "code",
   "execution_count": 24,
   "metadata": {},
   "outputs": [],
   "source": [
    "# get df for certain time frame based on index\n",
    "def get_growth_period(df, start, end):\n",
    "    return df.loc[start:end]\n",
    "#Growth period: may 11th - september 20th \n",
    "#https://en.wikipedia.org/wiki/Harvest_(wine)\n",
    "#df = get_growth_period(df, '2019-03-11', '2019-09-20')"
   ]
  },
  {
   "cell_type": "markdown",
   "metadata": {},
   "source": [
    "### get volatility"
   ]
  },
  {
   "cell_type": "code",
   "execution_count": 25,
   "metadata": {},
   "outputs": [],
   "source": [
    "# get volatility of a single column\n",
    "def get_volatility(df, column):\n",
    "    return df[column].std()/df[column].mean()\n"
   ]
  },
  {
   "cell_type": "markdown",
   "metadata": {},
   "source": [
    "### Longest drought"
   ]
  },
  {
   "cell_type": "code",
   "execution_count": 26,
   "metadata": {},
   "outputs": [],
   "source": [
    "# get the longest consecutive sequence of a value in a df\n",
    "def longest_sequence(df, column, value):\n",
    "    return df[column].eq(value).astype(int).groupby(df[column].ne(value).cumsum()).sum().max()\n"
   ]
  },
  {
   "cell_type": "markdown",
   "metadata": {},
   "source": [
    "### Longest rain period"
   ]
  },
  {
   "cell_type": "code",
   "execution_count": 27,
   "metadata": {},
   "outputs": [],
   "source": [
    "# get the longest consecutive sequence of the absence (!) of a value in a df\n",
    "# this is the longest sequence of days with rain\n",
    "def longest_sequence_no(df, column, value):\n",
    "    return df[column].ne(value).astype(int).groupby(df[column].eq(value).cumsum()).sum().max()"
   ]
  },
  {
   "cell_type": "markdown",
   "metadata": {},
   "source": [
    "### Avg Rain"
   ]
  },
  {
   "cell_type": "code",
   "execution_count": 28,
   "metadata": {},
   "outputs": [],
   "source": [
    "#Vines need between 400 and 600 mm of rain per year. \n",
    "#A regular supply of water throughout the growth cycle is needed for a high quality crop.\n",
    "#https://www.idealwine.info/conditions-necessary-great-wine-part-12/\n",
    "# get the avg of the column prcp for a df\n",
    "def get_avg_prcp(df):\n",
    "    return df['prcp'].mean()"
   ]
  },
  {
   "cell_type": "markdown",
   "metadata": {},
   "source": [
    "### No of Days above 35 degrees "
   ]
  },
  {
   "cell_type": "code",
   "execution_count": 29,
   "metadata": {},
   "outputs": [],
   "source": [
    "#At temperatures below 10°C and above 35°C, photosynthesis will be disrupted and vines will not grow properly.\n",
    "# count number of rows in a df column tmax above a threshold\n",
    "def count_above(df, column, threshold):\n",
    "    return df[df[column] > threshold][column].count()"
   ]
  },
  {
   "cell_type": "markdown",
   "metadata": {},
   "source": [
    "### number of days below 10 degrees\n"
   ]
  },
  {
   "cell_type": "code",
   "execution_count": 30,
   "metadata": {},
   "outputs": [],
   "source": [
    "# count number of rows in a df column tmax under a threshold\n",
    "\n",
    "def count_under(df, column, threshold):\n",
    "    return df[df[column] < threshold][column].count()"
   ]
  },
  {
   "cell_type": "markdown",
   "metadata": {},
   "source": [
    "### coulure wspd"
   ]
  },
  {
   "cell_type": "code",
   "execution_count": 32,
   "metadata": {},
   "outputs": [],
   "source": [
    "#strong wind around june --> coulure \n",
    "# get the avg of the column wspd for a df\n",
    "def get_avg_wspd(df):\n",
    "    year = df.index[0].year\n",
    "    df = get_growth_period(df, f'{year}-05-15', f'{year}-07-15')\n",
    "    return df['wspd'].mean()"
   ]
  },
  {
   "cell_type": "markdown",
   "metadata": {},
   "source": [
    "### May July Rain"
   ]
  },
  {
   "cell_type": "code",
   "execution_count": 34,
   "metadata": {},
   "outputs": [],
   "source": [
    "#Too much rain during the May-July period --> diseases such as mildew or oidium\n",
    "# sum the column prcp for a df\n",
    "def get_sum_prcp(df):\n",
    "     year = df.index[0].year\n",
    "     df = get_growth_period(df, f'{year}-05-15', f'{year}-07-15')\n",
    "     return df['prcp'].sum()"
   ]
  },
  {
   "cell_type": "markdown",
   "metadata": {},
   "source": [
    "## Combined Features\n",
    "```\n",
    "Temp Vola: get_volatility(df, 'tavg')\n",
    "Rain Vola: get_volatility(df, 'prcp')\n",
    "Longest drought: longest_sequence(df, 'prcp', 0)\n",
    "Longest Rain: longest_sequence_no(df, 'prcp', 0) \n",
    "Avg Rain: get_avg_prcp(df)\n",
    "NoDays35: count_above(df, 'tmax', 35)\n",
    "NoDays10: count_under(df, 'tmin', 10)\n",
    "NoDays0: count_under(df, 'tmin', 0)\n",
    "ColourWspd: get_avg_wspd(df)\n",
    "MayJulyRain: get_sum_prcp(df)\n",
    "```"
   ]
  },
  {
   "cell_type": "code",
   "execution_count": 35,
   "metadata": {},
   "outputs": [],
   "source": [
    "# combine all function in one function\n",
    "\n",
    "def get_weather_features(city, country, year, n):\n",
    "    raw = get_weather(city, country, year, n)\n",
    "    if raw is np.nan:\n",
    "        return np.nan, np.nan, np.nan, np.nan, np.nan, np.nan, np.nan, np.nan, np.nan, np.nan\n",
    "    else:\n",
    "        df = get_growth_period(raw, f'{year}-03-11', f'{year}-09-20')\n",
    "        return get_volatility(df, 'tavg'), get_volatility(df, 'prcp'), longest_sequence(df, 'prcp', 0), longest_sequence_no(df, 'prcp', 0), get_avg_prcp(df), count_above(df, 'tmax', 35), count_under(df, 'tmin', 10), count_under(df, 'tmin', 0), get_avg_wspd(df), get_sum_prcp(df)"
   ]
  },
  {
   "cell_type": "markdown",
   "metadata": {},
   "source": [
    "#### Example:"
   ]
  },
  {
   "cell_type": "code",
   "execution_count": 36,
   "metadata": {},
   "outputs": [],
   "source": [
    "Vola_Temp, Vola_Rain, Longest_Dry, Longest_Wet, Avg_Rain, Count_above35, Count_under10, Count_under0, Coulure_Wind, June_Rain = get_weather_features('Bordeaux','France', 2019, 5)\n"
   ]
  },
  {
   "cell_type": "code",
   "execution_count": 37,
   "metadata": {},
   "outputs": [],
   "source": [
    "Vola_Temp, Vola_Rain, Longest_Dry, Longest_Wet, Avg_Rain, Count_above35, Count_under10, Count_under0, Coulure_Wind, June_Rain = get_weather_features('bhibv','France', 2019, 5)\n"
   ]
  },
  {
   "cell_type": "markdown",
   "metadata": {},
   "source": [
    "# Test"
   ]
  },
  {
   "cell_type": "code",
   "execution_count": 12,
   "metadata": {},
   "outputs": [],
   "source": [
    "import pandas as pd\n",
    "# load drafts/df_out.csv\n",
    "df = pd.read_csv('data/df_out.csv')"
   ]
  },
  {
   "cell_type": "markdown",
   "metadata": {},
   "source": [
    "## Weather"
   ]
  },
  {
   "cell_type": "code",
   "execution_count": 50,
   "metadata": {},
   "outputs": [
    {
     "data": {
      "text/html": [
       "<div>\n",
       "<style scoped>\n",
       "    .dataframe tbody tr th:only-of-type {\n",
       "        vertical-align: middle;\n",
       "    }\n",
       "\n",
       "    .dataframe tbody tr th {\n",
       "        vertical-align: top;\n",
       "    }\n",
       "\n",
       "    .dataframe thead th {\n",
       "        text-align: right;\n",
       "    }\n",
       "</style>\n",
       "<table border=\"1\" class=\"dataframe\">\n",
       "  <thead>\n",
       "    <tr style=\"text-align: right;\">\n",
       "      <th></th>\n",
       "      <th>Region</th>\n",
       "      <th>Vintage</th>\n",
       "      <th>Vola_Temp</th>\n",
       "      <th>Vola_Rain</th>\n",
       "      <th>Longest_Dry</th>\n",
       "      <th>Longest_Wet</th>\n",
       "      <th>Avg_Rain</th>\n",
       "      <th>Count_above35</th>\n",
       "      <th>Count_under10</th>\n",
       "      <th>Count_under0</th>\n",
       "      <th>Coulure_Wind</th>\n",
       "      <th>June_Rain</th>\n",
       "    </tr>\n",
       "  </thead>\n",
       "  <tbody>\n",
       "    <tr>\n",
       "      <th>0</th>\n",
       "      <td>Veneto</td>\n",
       "      <td>2016</td>\n",
       "      <td>0.276193</td>\n",
       "      <td>2.455693</td>\n",
       "      <td>23.0</td>\n",
       "      <td>8.0</td>\n",
       "      <td>2.600000</td>\n",
       "      <td>0.0</td>\n",
       "      <td>32.0</td>\n",
       "      <td>0.0</td>\n",
       "      <td>10.607258</td>\n",
       "      <td>194.8</td>\n",
       "    </tr>\n",
       "    <tr>\n",
       "      <th>3</th>\n",
       "      <td>Veneto</td>\n",
       "      <td>2019</td>\n",
       "      <td>0.314690</td>\n",
       "      <td>2.368641</td>\n",
       "      <td>13.0</td>\n",
       "      <td>7.0</td>\n",
       "      <td>4.560417</td>\n",
       "      <td>1.0</td>\n",
       "      <td>45.0</td>\n",
       "      <td>0.0</td>\n",
       "      <td>8.889785</td>\n",
       "      <td>323.2</td>\n",
       "    </tr>\n",
       "    <tr>\n",
       "      <th>9</th>\n",
       "      <td>Trentino-Alto Adige</td>\n",
       "      <td>2018</td>\n",
       "      <td>0.566535</td>\n",
       "      <td>2.090728</td>\n",
       "      <td>12.0</td>\n",
       "      <td>6.0</td>\n",
       "      <td>2.874432</td>\n",
       "      <td>0.0</td>\n",
       "      <td>123.0</td>\n",
       "      <td>23.0</td>\n",
       "      <td>10.544355</td>\n",
       "      <td>191.9</td>\n",
       "    </tr>\n",
       "  </tbody>\n",
       "</table>\n",
       "</div>"
      ],
      "text/plain": [
       "                Region  Vintage  Vola_Temp  Vola_Rain  Longest_Dry  \\\n",
       "0               Veneto     2016   0.276193   2.455693         23.0   \n",
       "3               Veneto     2019   0.314690   2.368641         13.0   \n",
       "9  Trentino-Alto Adige     2018   0.566535   2.090728         12.0   \n",
       "\n",
       "   Longest_Wet  Avg_Rain  Count_above35  Count_under10  Count_under0  \\\n",
       "0          8.0  2.600000            0.0           32.0           0.0   \n",
       "3          7.0  4.560417            1.0           45.0           0.0   \n",
       "9          6.0  2.874432            0.0          123.0          23.0   \n",
       "\n",
       "   Coulure_Wind  June_Rain  \n",
       "0     10.607258      194.8  \n",
       "3      8.889785      323.2  \n",
       "9     10.544355      191.9  "
      ]
     },
     "execution_count": 50,
     "metadata": {},
     "output_type": "execute_result"
    }
   ],
   "source": [
    "#reduce to unique tuples (only first 10 rows for testing)\n",
    "test = df[[\"Country\", \"Region\", \"Vintage\"]][0:10]\n",
    "test.drop_duplicates(inplace=True)\n",
    "\n",
    "\n",
    "#loop through test dataframe with iterrows\n",
    "results = []\n",
    "for index, row in test.iterrows():\n",
    "    #print(row['Region'], row['Vintage'])\n",
    "    tupel = [row['Region'], int(row['Vintage'])]\n",
    "    tupel.extend(get_weather_features(row['Region'], row['Country'], row['Vintage'], 5))\n",
    "    #print(tupel)\n",
    "    #print('------------------------')\n",
    "    results.append(tupel)\n",
    "\n",
    "# create a new df with the results\n",
    "df_results = pd.DataFrame(results, columns=['Region', 'Vintage', 'Vola_Temp', 'Vola_Rain', 'Longest_Dry', 'Longest_Wet', 'Avg_Rain', 'Count_above35', 'Count_under10', 'Count_under0', 'Coulure_Wind', 'June_Rain'])\n",
    "\n",
    "df_results.dropna(inplace=True)\n",
    "df_results"
   ]
  },
  {
   "cell_type": "markdown",
   "metadata": {},
   "source": [
    "## Google trends"
   ]
  },
  {
   "cell_type": "markdown",
   "metadata": {},
   "source": [
    "Even though we use custom cookies and headers, there are still issues with google trends and this will take significant amounts of time and re-runs"
   ]
  },
  {
   "cell_type": "code",
   "execution_count": 23,
   "metadata": {},
   "outputs": [
    {
     "data": {
      "text/html": [
       "<div>\n",
       "<style scoped>\n",
       "    .dataframe tbody tr th:only-of-type {\n",
       "        vertical-align: middle;\n",
       "    }\n",
       "\n",
       "    .dataframe tbody tr th {\n",
       "        vertical-align: top;\n",
       "    }\n",
       "\n",
       "    .dataframe thead th {\n",
       "        text-align: right;\n",
       "    }\n",
       "</style>\n",
       "<table border=\"1\" class=\"dataframe\">\n",
       "  <thead>\n",
       "    <tr style=\"text-align: right;\">\n",
       "      <th></th>\n",
       "      <th>Grape Type</th>\n",
       "      <th>Vintage</th>\n",
       "      <th>Median</th>\n",
       "      <th>Mean</th>\n",
       "    </tr>\n",
       "  </thead>\n",
       "  <tbody>\n",
       "    <tr>\n",
       "      <th>0</th>\n",
       "      <td>Marsanne</td>\n",
       "      <td>2022</td>\n",
       "      <td>59.0</td>\n",
       "      <td>59.423077</td>\n",
       "    </tr>\n",
       "    <tr>\n",
       "      <th>1</th>\n",
       "      <td>Marsanne</td>\n",
       "      <td>2021</td>\n",
       "      <td>43.0</td>\n",
       "      <td>46.923077</td>\n",
       "    </tr>\n",
       "    <tr>\n",
       "      <th>2</th>\n",
       "      <td>Marsanne</td>\n",
       "      <td>2014</td>\n",
       "      <td>53.0</td>\n",
       "      <td>54.403846</td>\n",
       "    </tr>\n",
       "    <tr>\n",
       "      <th>3</th>\n",
       "      <td>Marsanne</td>\n",
       "      <td>2019</td>\n",
       "      <td>54.0</td>\n",
       "      <td>55.500000</td>\n",
       "    </tr>\n",
       "    <tr>\n",
       "      <th>4</th>\n",
       "      <td>Marsanne</td>\n",
       "      <td>2020</td>\n",
       "      <td>47.0</td>\n",
       "      <td>51.115385</td>\n",
       "    </tr>\n",
       "    <tr>\n",
       "      <th>5</th>\n",
       "      <td>Marsanne</td>\n",
       "      <td>2017</td>\n",
       "      <td>51.0</td>\n",
       "      <td>52.452830</td>\n",
       "    </tr>\n",
       "    <tr>\n",
       "      <th>6</th>\n",
       "      <td>Marsanne</td>\n",
       "      <td>2006</td>\n",
       "      <td>23.0</td>\n",
       "      <td>25.415094</td>\n",
       "    </tr>\n",
       "    <tr>\n",
       "      <th>7</th>\n",
       "      <td>Marsanne</td>\n",
       "      <td>2013</td>\n",
       "      <td>62.0</td>\n",
       "      <td>64.942308</td>\n",
       "    </tr>\n",
       "    <tr>\n",
       "      <th>8</th>\n",
       "      <td>Marsanne</td>\n",
       "      <td>2011</td>\n",
       "      <td>60.0</td>\n",
       "      <td>59.403846</td>\n",
       "    </tr>\n",
       "    <tr>\n",
       "      <th>10</th>\n",
       "      <td>Marsanne</td>\n",
       "      <td>2016</td>\n",
       "      <td>61.5</td>\n",
       "      <td>64.480769</td>\n",
       "    </tr>\n",
       "    <tr>\n",
       "      <th>11</th>\n",
       "      <td>Marsanne</td>\n",
       "      <td>2007</td>\n",
       "      <td>36.5</td>\n",
       "      <td>39.500000</td>\n",
       "    </tr>\n",
       "    <tr>\n",
       "      <th>12</th>\n",
       "      <td>Marsanne</td>\n",
       "      <td>2004</td>\n",
       "      <td>0.0</td>\n",
       "      <td>13.153846</td>\n",
       "    </tr>\n",
       "    <tr>\n",
       "      <th>13</th>\n",
       "      <td>Marsanne</td>\n",
       "      <td>2018</td>\n",
       "      <td>65.0</td>\n",
       "      <td>64.673077</td>\n",
       "    </tr>\n",
       "    <tr>\n",
       "      <th>14</th>\n",
       "      <td>Marsanne</td>\n",
       "      <td>2015</td>\n",
       "      <td>56.0</td>\n",
       "      <td>58.076923</td>\n",
       "    </tr>\n",
       "    <tr>\n",
       "      <th>20</th>\n",
       "      <td>Marsanne</td>\n",
       "      <td>2012</td>\n",
       "      <td>62.0</td>\n",
       "      <td>60.339623</td>\n",
       "    </tr>\n",
       "    <tr>\n",
       "      <th>21</th>\n",
       "      <td>Marsanne</td>\n",
       "      <td>2010</td>\n",
       "      <td>54.0</td>\n",
       "      <td>56.384615</td>\n",
       "    </tr>\n",
       "    <tr>\n",
       "      <th>22</th>\n",
       "      <td>Marsanne</td>\n",
       "      <td>2009</td>\n",
       "      <td>45.0</td>\n",
       "      <td>45.057692</td>\n",
       "    </tr>\n",
       "    <tr>\n",
       "      <th>27</th>\n",
       "      <td>Marsanne</td>\n",
       "      <td>2005</td>\n",
       "      <td>15.0</td>\n",
       "      <td>16.384615</td>\n",
       "    </tr>\n",
       "    <tr>\n",
       "      <th>30</th>\n",
       "      <td>Marsanne</td>\n",
       "      <td>2008</td>\n",
       "      <td>47.5</td>\n",
       "      <td>46.115385</td>\n",
       "    </tr>\n",
       "    <tr>\n",
       "      <th>33</th>\n",
       "      <td>Muscat Blanc</td>\n",
       "      <td>2022</td>\n",
       "      <td>41.0</td>\n",
       "      <td>40.903846</td>\n",
       "    </tr>\n",
       "    <tr>\n",
       "      <th>34</th>\n",
       "      <td>Muscat Blanc</td>\n",
       "      <td>2021</td>\n",
       "      <td>39.0</td>\n",
       "      <td>40.788462</td>\n",
       "    </tr>\n",
       "    <tr>\n",
       "      <th>35</th>\n",
       "      <td>Muscat Blanc</td>\n",
       "      <td>2018</td>\n",
       "      <td>39.5</td>\n",
       "      <td>43.019231</td>\n",
       "    </tr>\n",
       "    <tr>\n",
       "      <th>36</th>\n",
       "      <td>Muscat Blanc</td>\n",
       "      <td>2019</td>\n",
       "      <td>46.0</td>\n",
       "      <td>46.173077</td>\n",
       "    </tr>\n",
       "    <tr>\n",
       "      <th>37</th>\n",
       "      <td>Muscat Blanc</td>\n",
       "      <td>2014</td>\n",
       "      <td>31.0</td>\n",
       "      <td>33.461538</td>\n",
       "    </tr>\n",
       "    <tr>\n",
       "      <th>38</th>\n",
       "      <td>Muscat Blanc</td>\n",
       "      <td>2016</td>\n",
       "      <td>44.5</td>\n",
       "      <td>48.634615</td>\n",
       "    </tr>\n",
       "    <tr>\n",
       "      <th>39</th>\n",
       "      <td>Muscat Blanc</td>\n",
       "      <td>2020</td>\n",
       "      <td>65.5</td>\n",
       "      <td>63.961538</td>\n",
       "    </tr>\n",
       "    <tr>\n",
       "      <th>40</th>\n",
       "      <td>Muscat Blanc</td>\n",
       "      <td>2004</td>\n",
       "      <td>0.0</td>\n",
       "      <td>11.557692</td>\n",
       "    </tr>\n",
       "    <tr>\n",
       "      <th>41</th>\n",
       "      <td>Muscat Blanc</td>\n",
       "      <td>2010</td>\n",
       "      <td>24.0</td>\n",
       "      <td>27.365385</td>\n",
       "    </tr>\n",
       "    <tr>\n",
       "      <th>42</th>\n",
       "      <td>Muscat Blanc</td>\n",
       "      <td>2015</td>\n",
       "      <td>33.0</td>\n",
       "      <td>36.557692</td>\n",
       "    </tr>\n",
       "    <tr>\n",
       "      <th>43</th>\n",
       "      <td>Muscat Blanc</td>\n",
       "      <td>2013</td>\n",
       "      <td>41.5</td>\n",
       "      <td>41.038462</td>\n",
       "    </tr>\n",
       "    <tr>\n",
       "      <th>44</th>\n",
       "      <td>Muscat Blanc</td>\n",
       "      <td>2006</td>\n",
       "      <td>0.0</td>\n",
       "      <td>11.471698</td>\n",
       "    </tr>\n",
       "    <tr>\n",
       "      <th>45</th>\n",
       "      <td>Muscat Blanc</td>\n",
       "      <td>2007</td>\n",
       "      <td>0.0</td>\n",
       "      <td>10.557692</td>\n",
       "    </tr>\n",
       "    <tr>\n",
       "      <th>46</th>\n",
       "      <td>Barbera</td>\n",
       "      <td>2017</td>\n",
       "      <td>79.0</td>\n",
       "      <td>80.245283</td>\n",
       "    </tr>\n",
       "    <tr>\n",
       "      <th>47</th>\n",
       "      <td>Barbera</td>\n",
       "      <td>2019</td>\n",
       "      <td>69.5</td>\n",
       "      <td>70.884615</td>\n",
       "    </tr>\n",
       "    <tr>\n",
       "      <th>49</th>\n",
       "      <td>Barbera</td>\n",
       "      <td>2005</td>\n",
       "      <td>85.5</td>\n",
       "      <td>84.538462</td>\n",
       "    </tr>\n",
       "    <tr>\n",
       "      <th>50</th>\n",
       "      <td>Barbera</td>\n",
       "      <td>2020</td>\n",
       "      <td>77.0</td>\n",
       "      <td>77.057692</td>\n",
       "    </tr>\n",
       "    <tr>\n",
       "      <th>53</th>\n",
       "      <td>Barbera</td>\n",
       "      <td>2021</td>\n",
       "      <td>64.0</td>\n",
       "      <td>64.788462</td>\n",
       "    </tr>\n",
       "    <tr>\n",
       "      <th>56</th>\n",
       "      <td>Barbera</td>\n",
       "      <td>2011</td>\n",
       "      <td>77.0</td>\n",
       "      <td>77.788462</td>\n",
       "    </tr>\n",
       "    <tr>\n",
       "      <th>57</th>\n",
       "      <td>Barbera</td>\n",
       "      <td>2006</td>\n",
       "      <td>26.0</td>\n",
       "      <td>28.226415</td>\n",
       "    </tr>\n",
       "    <tr>\n",
       "      <th>58</th>\n",
       "      <td>Barbera</td>\n",
       "      <td>2007</td>\n",
       "      <td>59.5</td>\n",
       "      <td>61.442308</td>\n",
       "    </tr>\n",
       "    <tr>\n",
       "      <th>59</th>\n",
       "      <td>Barbera</td>\n",
       "      <td>2015</td>\n",
       "      <td>27.0</td>\n",
       "      <td>29.711538</td>\n",
       "    </tr>\n",
       "    <tr>\n",
       "      <th>60</th>\n",
       "      <td>Barbera</td>\n",
       "      <td>2018</td>\n",
       "      <td>64.5</td>\n",
       "      <td>66.173077</td>\n",
       "    </tr>\n",
       "    <tr>\n",
       "      <th>61</th>\n",
       "      <td>Barbera</td>\n",
       "      <td>2008</td>\n",
       "      <td>76.0</td>\n",
       "      <td>76.500000</td>\n",
       "    </tr>\n",
       "    <tr>\n",
       "      <th>62</th>\n",
       "      <td>Barbera</td>\n",
       "      <td>2004</td>\n",
       "      <td>81.0</td>\n",
       "      <td>79.403846</td>\n",
       "    </tr>\n",
       "    <tr>\n",
       "      <th>65</th>\n",
       "      <td>Barbera</td>\n",
       "      <td>2016</td>\n",
       "      <td>5.0</td>\n",
       "      <td>7.211538</td>\n",
       "    </tr>\n",
       "    <tr>\n",
       "      <th>68</th>\n",
       "      <td>Barbera</td>\n",
       "      <td>2012</td>\n",
       "      <td>87.0</td>\n",
       "      <td>87.075472</td>\n",
       "    </tr>\n",
       "    <tr>\n",
       "      <th>69</th>\n",
       "      <td>Barbera</td>\n",
       "      <td>2010</td>\n",
       "      <td>72.0</td>\n",
       "      <td>73.653846</td>\n",
       "    </tr>\n",
       "    <tr>\n",
       "      <th>71</th>\n",
       "      <td>Barbera</td>\n",
       "      <td>2014</td>\n",
       "      <td>79.0</td>\n",
       "      <td>80.153846</td>\n",
       "    </tr>\n",
       "  </tbody>\n",
       "</table>\n",
       "</div>"
      ],
      "text/plain": [
       "      Grape Type  Vintage  Median       Mean\n",
       "0       Marsanne     2022    59.0  59.423077\n",
       "1       Marsanne     2021    43.0  46.923077\n",
       "2       Marsanne     2014    53.0  54.403846\n",
       "3       Marsanne     2019    54.0  55.500000\n",
       "4       Marsanne     2020    47.0  51.115385\n",
       "5       Marsanne     2017    51.0  52.452830\n",
       "6       Marsanne     2006    23.0  25.415094\n",
       "7       Marsanne     2013    62.0  64.942308\n",
       "8       Marsanne     2011    60.0  59.403846\n",
       "10      Marsanne     2016    61.5  64.480769\n",
       "11      Marsanne     2007    36.5  39.500000\n",
       "12      Marsanne     2004     0.0  13.153846\n",
       "13      Marsanne     2018    65.0  64.673077\n",
       "14      Marsanne     2015    56.0  58.076923\n",
       "20      Marsanne     2012    62.0  60.339623\n",
       "21      Marsanne     2010    54.0  56.384615\n",
       "22      Marsanne     2009    45.0  45.057692\n",
       "27      Marsanne     2005    15.0  16.384615\n",
       "30      Marsanne     2008    47.5  46.115385\n",
       "33  Muscat Blanc     2022    41.0  40.903846\n",
       "34  Muscat Blanc     2021    39.0  40.788462\n",
       "35  Muscat Blanc     2018    39.5  43.019231\n",
       "36  Muscat Blanc     2019    46.0  46.173077\n",
       "37  Muscat Blanc     2014    31.0  33.461538\n",
       "38  Muscat Blanc     2016    44.5  48.634615\n",
       "39  Muscat Blanc     2020    65.5  63.961538\n",
       "40  Muscat Blanc     2004     0.0  11.557692\n",
       "41  Muscat Blanc     2010    24.0  27.365385\n",
       "42  Muscat Blanc     2015    33.0  36.557692\n",
       "43  Muscat Blanc     2013    41.5  41.038462\n",
       "44  Muscat Blanc     2006     0.0  11.471698\n",
       "45  Muscat Blanc     2007     0.0  10.557692\n",
       "46       Barbera     2017    79.0  80.245283\n",
       "47       Barbera     2019    69.5  70.884615\n",
       "49       Barbera     2005    85.5  84.538462\n",
       "50       Barbera     2020    77.0  77.057692\n",
       "53       Barbera     2021    64.0  64.788462\n",
       "56       Barbera     2011    77.0  77.788462\n",
       "57       Barbera     2006    26.0  28.226415\n",
       "58       Barbera     2007    59.5  61.442308\n",
       "59       Barbera     2015    27.0  29.711538\n",
       "60       Barbera     2018    64.5  66.173077\n",
       "61       Barbera     2008    76.0  76.500000\n",
       "62       Barbera     2004    81.0  79.403846\n",
       "65       Barbera     2016     5.0   7.211538\n",
       "68       Barbera     2012    87.0  87.075472\n",
       "69       Barbera     2010    72.0  73.653846\n",
       "71       Barbera     2014    79.0  80.153846"
      ]
     },
     "execution_count": 23,
     "metadata": {},
     "output_type": "execute_result"
    }
   ],
   "source": [
    "#reduce to unique tuples (only first 10 rows for testing)\n",
    "df = df[df['Vintage'] != 'N.V.']\n",
    "df = df[df['Vintage'].notna()]\n",
    "df['Vintage'] = df['Vintage'].astype(int)\n",
    "\n",
    "test = df[[\"Grape Type\", \"Vintage\"]][100:460]\n",
    "test.drop_duplicates(inplace=True)\n",
    "\n",
    "#loop through test dataframe with iterrows\n",
    "results = []\n",
    "for index, row in test.iterrows():\n",
    "    #print(row['Grape Type'], row['Vintage'])\n",
    "    tupel = [row['Grape Type'], int(row['Vintage'])]\n",
    "    tupel.extend(get_aggregates(get_trend_data(row['Grape Type'], row['Vintage'])))\n",
    "    #print(tupel)\n",
    "    #print('------------------------')\n",
    "    results.append(tupel)\n",
    "\n",
    "# create a new df with the results\n",
    "df_results = pd.DataFrame(results, columns=['Grape Type', 'Vintage', 'Median', 'Mean'])\n",
    "df_results.dropna(inplace=True)\n",
    "df_results"
   ]
  },
  {
   "cell_type": "code",
   "execution_count": 24,
   "metadata": {},
   "outputs": [
    {
     "data": {
      "text/html": [
       "<div>\n",
       "<style scoped>\n",
       "    .dataframe tbody tr th:only-of-type {\n",
       "        vertical-align: middle;\n",
       "    }\n",
       "\n",
       "    .dataframe tbody tr th {\n",
       "        vertical-align: top;\n",
       "    }\n",
       "\n",
       "    .dataframe thead th {\n",
       "        text-align: right;\n",
       "    }\n",
       "</style>\n",
       "<table border=\"1\" class=\"dataframe\">\n",
       "  <thead>\n",
       "    <tr style=\"text-align: right;\">\n",
       "      <th></th>\n",
       "      <th>Grape Type</th>\n",
       "      <th>Vintage</th>\n",
       "    </tr>\n",
       "  </thead>\n",
       "  <tbody>\n",
       "    <tr>\n",
       "      <th>101</th>\n",
       "      <td>Marsanne</td>\n",
       "      <td>2022</td>\n",
       "    </tr>\n",
       "    <tr>\n",
       "      <th>102</th>\n",
       "      <td>Marsanne</td>\n",
       "      <td>2021</td>\n",
       "    </tr>\n",
       "    <tr>\n",
       "      <th>103</th>\n",
       "      <td>Marsanne</td>\n",
       "      <td>2014</td>\n",
       "    </tr>\n",
       "    <tr>\n",
       "      <th>104</th>\n",
       "      <td>Marsanne</td>\n",
       "      <td>2019</td>\n",
       "    </tr>\n",
       "    <tr>\n",
       "      <th>106</th>\n",
       "      <td>Marsanne</td>\n",
       "      <td>2020</td>\n",
       "    </tr>\n",
       "    <tr>\n",
       "      <th>...</th>\n",
       "      <td>...</td>\n",
       "      <td>...</td>\n",
       "    </tr>\n",
       "    <tr>\n",
       "      <th>423</th>\n",
       "      <td>Barbera</td>\n",
       "      <td>2012</td>\n",
       "    </tr>\n",
       "    <tr>\n",
       "      <th>426</th>\n",
       "      <td>Barbera</td>\n",
       "      <td>2010</td>\n",
       "    </tr>\n",
       "    <tr>\n",
       "      <th>429</th>\n",
       "      <td>Barbera</td>\n",
       "      <td>2001</td>\n",
       "    </tr>\n",
       "    <tr>\n",
       "      <th>441</th>\n",
       "      <td>Barbera</td>\n",
       "      <td>2014</td>\n",
       "    </tr>\n",
       "    <tr>\n",
       "      <th>451</th>\n",
       "      <td>Barbera</td>\n",
       "      <td>1999</td>\n",
       "    </tr>\n",
       "  </tbody>\n",
       "</table>\n",
       "<p>73 rows × 2 columns</p>\n",
       "</div>"
      ],
      "text/plain": [
       "    Grape Type  Vintage\n",
       "101   Marsanne     2022\n",
       "102   Marsanne     2021\n",
       "103   Marsanne     2014\n",
       "104   Marsanne     2019\n",
       "106   Marsanne     2020\n",
       "..         ...      ...\n",
       "423    Barbera     2012\n",
       "426    Barbera     2010\n",
       "429    Barbera     2001\n",
       "441    Barbera     2014\n",
       "451    Barbera     1999\n",
       "\n",
       "[73 rows x 2 columns]"
      ]
     },
     "execution_count": 24,
     "metadata": {},
     "output_type": "execute_result"
    }
   ],
   "source": [
    "test"
   ]
  },
  {
   "cell_type": "markdown",
   "metadata": {},
   "source": [
    "## Harvest"
   ]
  },
  {
   "cell_type": "code",
   "execution_count": 41,
   "metadata": {},
   "outputs": [
    {
     "data": {
      "text/html": [
       "<div>\n",
       "<style scoped>\n",
       "    .dataframe tbody tr th:only-of-type {\n",
       "        vertical-align: middle;\n",
       "    }\n",
       "\n",
       "    .dataframe tbody tr th {\n",
       "        vertical-align: top;\n",
       "    }\n",
       "\n",
       "    .dataframe thead th {\n",
       "        text-align: right;\n",
       "    }\n",
       "</style>\n",
       "<table border=\"1\" class=\"dataframe\">\n",
       "  <thead>\n",
       "    <tr style=\"text-align: right;\">\n",
       "      <th></th>\n",
       "      <th>Country</th>\n",
       "      <th>Vintage</th>\n",
       "      <th>Area harvested</th>\n",
       "      <th>Grape Production</th>\n",
       "      <th>Wine Production</th>\n",
       "    </tr>\n",
       "  </thead>\n",
       "  <tbody>\n",
       "    <tr>\n",
       "      <th>0</th>\n",
       "      <td>Italy</td>\n",
       "      <td>2016</td>\n",
       "      <td>668087.0</td>\n",
       "      <td>8201913.6</td>\n",
       "      <td>5161546.0</td>\n",
       "    </tr>\n",
       "    <tr>\n",
       "      <th>1</th>\n",
       "      <td>Italy</td>\n",
       "      <td>2017</td>\n",
       "      <td>670085.0</td>\n",
       "      <td>7169745.0</td>\n",
       "      <td>4382936.0</td>\n",
       "    </tr>\n",
       "    <tr>\n",
       "      <th>2</th>\n",
       "      <td>Italy</td>\n",
       "      <td>2003</td>\n",
       "      <td>835546.0</td>\n",
       "      <td>7482936.0</td>\n",
       "      <td>4408611.0</td>\n",
       "    </tr>\n",
       "    <tr>\n",
       "      <th>3</th>\n",
       "      <td>Italy</td>\n",
       "      <td>2019</td>\n",
       "      <td>697910.0</td>\n",
       "      <td>7900120.0</td>\n",
       "      <td>4985862.0</td>\n",
       "    </tr>\n",
       "    <tr>\n",
       "      <th>4</th>\n",
       "      <td>Italy</td>\n",
       "      <td>1998</td>\n",
       "      <td>874390.0</td>\n",
       "      <td>9256801.0</td>\n",
       "      <td>5714040.0</td>\n",
       "    </tr>\n",
       "    <tr>\n",
       "      <th>5</th>\n",
       "      <td>Italy</td>\n",
       "      <td>2018</td>\n",
       "      <td>675820.0</td>\n",
       "      <td>8513640.0</td>\n",
       "      <td>5415000.0</td>\n",
       "    </tr>\n",
       "    <tr>\n",
       "      <th>6</th>\n",
       "      <td>Italy</td>\n",
       "      <td>2007</td>\n",
       "      <td>782000.0</td>\n",
       "      <td>7392543.0</td>\n",
       "      <td>4094326.0</td>\n",
       "    </tr>\n",
       "    <tr>\n",
       "      <th>7</th>\n",
       "      <td>Italy</td>\n",
       "      <td>2013</td>\n",
       "      <td>702106.0</td>\n",
       "      <td>8010364.2</td>\n",
       "      <td>4504412.0</td>\n",
       "    </tr>\n",
       "  </tbody>\n",
       "</table>\n",
       "</div>"
      ],
      "text/plain": [
       "  Country  Vintage  Area harvested  Grape Production  Wine Production\n",
       "0   Italy     2016        668087.0         8201913.6        5161546.0\n",
       "1   Italy     2017        670085.0         7169745.0        4382936.0\n",
       "2   Italy     2003        835546.0         7482936.0        4408611.0\n",
       "3   Italy     2019        697910.0         7900120.0        4985862.0\n",
       "4   Italy     1998        874390.0         9256801.0        5714040.0\n",
       "5   Italy     2018        675820.0         8513640.0        5415000.0\n",
       "6   Italy     2007        782000.0         7392543.0        4094326.0\n",
       "7   Italy     2013        702106.0         8010364.2        4504412.0"
      ]
     },
     "execution_count": 41,
     "metadata": {},
     "output_type": "execute_result"
    }
   ],
   "source": [
    "#reduce to unique tuples (only first 10 rows for testing)\n",
    "test = df[[\"Country\", \"Vintage\"]][0:10]\n",
    "test.drop_duplicates(inplace=True)\n",
    "\n",
    "#left join with existing DB\n",
    "\n",
    "#loop through test dataframe with iterrows\n",
    "results = []\n",
    "for index, row in test.iterrows():\n",
    "    #print(row['Grape Type'], row['Vintage'])\n",
    "    tupel = [row['Country'], int(row['Vintage'])]\n",
    "    tupel.extend(get_three_values(row['Country'], row['Vintage']))\n",
    "    #print(tupel)\n",
    "    #print('------------------------')\n",
    "    results.append(tupel)\n",
    "\n",
    "# create a new df with the results\n",
    "df_results = pd.DataFrame(results, columns=['Country', 'Vintage', 'Area harvested', 'Grape Production', 'Wine Production'])\n",
    "df_results.dropna(inplace=True)\n",
    "df_results"
   ]
  }
 ],
 "metadata": {
  "kernelspec": {
   "display_name": "Python 3",
   "language": "python",
   "name": "python3"
  },
  "language_info": {
   "codemirror_mode": {
    "name": "ipython",
    "version": 3
   },
   "file_extension": ".py",
   "mimetype": "text/x-python",
   "name": "python",
   "nbconvert_exporter": "python",
   "pygments_lexer": "ipython3",
   "version": "3.9.12"
  }
 },
 "nbformat": 4,
 "nbformat_minor": 2
}
